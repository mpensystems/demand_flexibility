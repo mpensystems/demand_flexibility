{
 "cells": [
  {
   "cell_type": "code",
   "execution_count": 1,
   "id": "5a5e7a54",
   "metadata": {},
   "outputs": [],
   "source": [
    "import warnings\n",
    "warnings.filterwarnings(\"ignore\")\n",
    "import plotly.io as pio\n",
    "pio.renderers.default='notebook'"
   ]
  },
  {
   "cell_type": "code",
   "execution_count": 2,
   "id": "eae120cb",
   "metadata": {},
   "outputs": [],
   "source": [
    "# !pip install pandas\n",
    "# !pip install numpy\n",
    "# !pip install pulp\n",
    "\n",
    "# !pip install PySimpleGUI\n",
    "# !pip install plotly"
   ]
  },
  {
   "cell_type": "markdown",
   "id": "3a743ee4",
   "metadata": {},
   "source": [
    "## Import libraries"
   ]
  },
  {
   "cell_type": "code",
   "execution_count": 2,
   "id": "9b09b40e",
   "metadata": {},
   "outputs": [
    {
     "data": {
      "text/html": [
       "        <script type=\"text/javascript\">\n",
       "        window.PlotlyConfig = {MathJaxConfig: 'local'};\n",
       "        if (window.MathJax && window.MathJax.Hub && window.MathJax.Hub.Config) {window.MathJax.Hub.Config({SVG: {font: \"STIX-Web\"}});}\n",
       "        if (typeof require !== 'undefined') {\n",
       "        require.undef(\"plotly\");\n",
       "        requirejs.config({\n",
       "            paths: {\n",
       "                'plotly': ['https://cdn.plot.ly/plotly-2.27.0.min']\n",
       "            }\n",
       "        });\n",
       "        require(['plotly'], function(Plotly) {\n",
       "            window._Plotly = Plotly;\n",
       "        });\n",
       "        }\n",
       "        </script>\n",
       "        "
      ]
     },
     "metadata": {},
     "output_type": "display_data"
    }
   ],
   "source": [
    "## Libraries\n",
    "\n",
    "import pandas as pd\n",
    "import numpy as np\n",
    "import matplotlib.pyplot as plt\n",
    "import pandas as pd\n",
    "import ipywidgets as widgets\n",
    "from ipywidgets import interact\n",
    "import plotly.graph_objects as go\n",
    "import plotly.subplots as sp\n",
    "from plotly.offline import init_notebook_mode, iplot\n",
    "init_notebook_mode(connected=True)\n",
    "\n",
    "# Define input and output directory paths that hold the input and output csv/xlsx files\n",
    "from pulp import LpProblem, LpVariable, LpMinimize, lpSum, LpStatus\n",
    "INPUT_PATH = 'input/'\n",
    "OUTPUT_PATH = 'output/'\n",
    "\n",
    "#import PySimpleGUI as sg\n",
    "import matplotlib.pyplot as plt\n",
    "import numpy as np"
   ]
  },
  {
   "cell_type": "markdown",
   "id": "e1ad8dc0",
   "metadata": {},
   "source": [
    "## Read data"
   ]
  },
  {
   "cell_type": "code",
   "execution_count": 4,
   "id": "20277b13",
   "metadata": {},
   "outputs": [],
   "source": [
    "# Read end use assumption of all consumer types\n",
    "base_base = {}\n",
    "base_base['residential'] = pd.read_excel(INPUT_PATH + 'residential_base.xlsx').iloc[:,:]\n",
    "base_base['hospital'] = pd.read_excel(INPUT_PATH + 'hospital_base.xlsx').iloc[:,:]\n",
    "base_base['hotel'] = pd.read_excel(INPUT_PATH + 'hotel_base.xlsx').iloc[:,:]\n",
    "base_base['mall'] = pd.read_excel(INPUT_PATH + 'mall_base.xlsx').iloc[:,:]\n",
    "base_base['office'] = pd.read_excel(INPUT_PATH + 'office_base.xlsx').iloc[:,:]\n",
    "base_base['IT'] = pd.read_excel(INPUT_PATH + 'IT_base.xlsx').iloc[:,:]\n",
    "base_base['coldstorage'] = pd.read_excel(INPUT_PATH + 'cold_base.xlsx').iloc[:,:]\n",
    "base_base['pww'] = pd.read_excel(INPUT_PATH + 'pww_base.xlsx').iloc[:,:]\n",
    "\n",
    "pu_load_res=base_base['residential']['Total load'].max()\n",
    "pu_load_hospital=base_base['hospital']['Total load'].max()\n",
    "pu_load_hotel=base_base['hotel']['Total load'].max()\n",
    "pu_load_mall=base_base['mall']['Total load'].max()\n",
    "pu_load_office=base_base['office']['Total load'].max()\n",
    "pu_load_IT=base_base['IT']['Total load'].max()\n",
    "pu_load_coldstorage=base_base['coldstorage']['Total load'].max()\n",
    "pu_load_pww=base_base['pww']['Total load'].max()\n",
    "\n",
    "rsd=float(input('Peak load residential consumer (MW): '))\n",
    "hsp=float(input('Peak load hospital consumer (MW): '))\n",
    "ht=float(input('Peak load hotel consumer (MW): '))\n",
    "mll=float(input('Peak load mall consumer (MW): '))\n",
    "off=float(input('Peak load office consumer (MW): '))\n",
    "ito=float(input('Peak load IT office consumer (MW): '))\n",
    "cso=float(input('Peak load cold storage consumer (MW): '))\n",
    "pwwo=float(input('Peak load pww consumer (MW): '))\n",
    "\n",
    "# Total number of consumers part of the feeder/ utility\n",
    "num_consumers = pd.DataFrame([{'residential': rsd*1000/pu_load_res, \n",
    "                               'hospital': hsp*1000/pu_load_hospital, \n",
    "                               'hotel': ht*1000/pu_load_hotel, \n",
    "                               'mall': mll*1000/pu_load_mall, \n",
    "                               'office': off*1000/pu_load_mall, \n",
    "                               'IT': ito*1000/pu_load_IT,\n",
    "                               'coldstorage':cso*1000/pu_load_coldstorage,\n",
    "                               'pww':pwwo*1000/pu_load_pww}\n",
    "                            ])\n",
    "\n",
    "RE_PPA = pd.read_excel(INPUT_PATH + 'RE power PPA.xlsx') \n",
    "\n",
    "# PPA data for conventional plants   \n",
    "ppa =pd.read_excel(INPUT_PATH + 'MODCON1.xlsx')\n",
    "\n",
    "# Read tariff plan\n",
    "tariff = pd.read_excel(INPUT_PATH + 'tariffplan.xlsx')\n",
    "\n",
    "# Solar Rooftop\n",
    "solarperkw = pd.read_excel(INPUT_PATH + 'solarrooftop.xlsx')"
   ]
  },
  {
   "cell_type": "markdown",
   "id": "2c3fb4b2",
   "metadata": {},
   "source": [
    "## Variables"
   ]
  },
  {
   "cell_type": "code",
   "execution_count": 5,
   "id": "04789fde",
   "metadata": {},
   "outputs": [],
   "source": [
    "#RE integration level for base case it is 1\n",
    "RE_integration =1\n",
    "\n",
    "# Tariff types used in analysis\n",
    "tariff_types = ['residential', 'commercial']\n",
    "\n",
    "# tariff plans\n",
    "tariff_plan = pd.DataFrame()\n",
    "tariff_plan['residential'] = tariff[tariff.columns[tariff.columns.str.contains('Residential')]]\n",
    "tariff_plan['commercial'] = tariff[tariff.columns[tariff.columns.str.contains('Commercial')]]\n",
    "\n",
    "sectors = ['LT-COMMERCIAL', 'LT-DOMESTIC', 'HT Commercial 22 KV']\n",
    "# Only first feeder\n",
    "# num_consumers = [cp.loc[cp['Feeder Name'].str.contains(s)].values[0,2] for s in sectors]\n",
    "\n",
    "customer_segments = ['residential','hospital','hotel','mall','office','IT','coldstorage','pww']\n",
    "\n",
    "seg_tariff = {\n",
    "    'residential': 'residential',\n",
    "    'hospital': 'commercial',\n",
    "    'hotel': 'commercial',\n",
    "    'mall': 'commercial',\n",
    "    'office': 'commercial',\n",
    "    'IT': 'commercial',\n",
    "    'coldstorage':'commercial',\n",
    "    'pww': 'commercial'\n",
    "    \n",
    "}\n",
    "\n",
    "rs=0.05\n",
    "hss=0.1\n",
    "hts=0.1\n",
    "ms=0.1\n",
    "os=0.1\n",
    "iss=0.1\n",
    "cs=0.05\n",
    "pwws = 0.05\n",
    "\n",
    "# Fractions of consumers with solar installations\n",
    "fs = pd.DataFrame({'solar': {'residential':rs,\n",
    "                             'hospital':hss,\n",
    "                             'hotel':hts,\n",
    "                             'mall':ms,\n",
    "                             'office':os,\n",
    "                             'IT':iss,\n",
    "                             'coldstorage':cs,\n",
    "                             'pww':pwws},\n",
    "                              \n",
    "                   'nonsolar': {'residential':1-rs,\n",
    "                                'hospital':1-hss,\n",
    "                                'hotel':1-hts,\n",
    "                                'mall':1-ms,\n",
    "                                'office':1-os,\n",
    "                                'IT':1-iss,\n",
    "                                'coldstorage':1-cs,\n",
    "                                'pww':1-pwws}\n",
    "                    })\n",
    "\n",
    "solar_df= 0.3\n",
    "\n",
    "rpd=solar_df\n",
    "hspd=solar_df\n",
    "htpd=solar_df\n",
    "mpd=solar_df\n",
    "opd=solar_df\n",
    "ispd=solar_df\n",
    "csd=solar_df\n",
    "pwwd=solar_df\n",
    "\n",
    "non_solar_df = 0.1\n",
    "\n",
    "rnpd=non_solar_df\n",
    "hnspd=non_solar_df\n",
    "hntpd=non_solar_df\n",
    "mnpd=non_solar_df\n",
    "onpd=non_solar_df\n",
    "isnpd=non_solar_df\n",
    "csnd=non_solar_df\n",
    "pwwnd=non_solar_df\n",
    "\n",
    "# Fractions of consumers participating in the DF program\n",
    "fp = pd.DataFrame({'solar': {'residential':rpd,\n",
    "                             'hospital':hspd,\n",
    "                             'hotel':htpd,\n",
    "                             'mall':mpd,\n",
    "                             'office':opd,\n",
    "                             'IT':ispd,\n",
    "                             'coldstorage':csd,\n",
    "                             'pww':pwwd},\n",
    "                  'nonsolar': {'residential':rnpd,\n",
    "                             'hospital':hnspd,\n",
    "                             'hotel':hntpd,\n",
    "                             'mall':mnpd,\n",
    "                             'office':onpd,\n",
    "                             'IT':isnpd,\n",
    "                             'coldstorage':csnd,\n",
    "                             'pww':pwwnd},\n",
    "                    })\n",
    "\n",
    "\n",
    "\n",
    "# Assumed installed solar capacity in KW\n",
    "solar_capacity = pd.DataFrame([{'residential': 1, \n",
    "                                'hospital': 100, \n",
    "                                'hotel':100, \n",
    "                                'mall':100, \n",
    "                                'office':100, \n",
    "                                'IT':100,\n",
    "                                'coldstorage':50,\n",
    "                                'pww':10}\n",
    "                            ])\n",
    "\n",
    "\n",
    "# T&D and other losses\n",
    "losses = 0.2\n",
    "\n",
    "# Factors for incremental steps during iterations\n",
    "lambda_t = {'residential': 0.05, 'commercial': 0.07}\n",
    "\n",
    "# Tariff threholds at 20% of max and min\n",
    "tariff_max = {'residential': 1.2*max(tariff_plan['residential']), \n",
    "              'commercial':1.2*max(tariff_plan['commercial'])}\n",
    "tariff_min = {'residential': 0.8*min(tariff_plan['residential']), \n",
    "              'commercial':0.8*min(tariff_plan['commercial'])}\n",
    "\n",
    "max_iters = 20\n",
    "epsilon = 0.005"
   ]
  },
  {
   "cell_type": "markdown",
   "id": "d973be69",
   "metadata": {},
   "source": [
    "## Create dataframes"
   ]
  },
  {
   "cell_type": "code",
   "execution_count": 6,
   "id": "e6c66c6d",
   "metadata": {},
   "outputs": [],
   "source": [
    "base_loads = {}\n",
    "base_solar = {}\n",
    "base_loads_solar = {}\n",
    "\n",
    "for segment in customer_segments: \n",
    "    base_loads[segment] = base_base[segment]['Total load'].copy()\n",
    "    base_solar[segment] = solar_capacity[segment].values[0]*solarperkw.iloc[:,1]\n",
    "    base_loads_solar[segment] = base_loads[segment].subtract(base_solar[segment], axis=0)\n",
    "\n",
    "# Convert lists to Pandas dataframes\n",
    "base_loads_df = pd.DataFrame(base_loads)\n",
    "base_loads_solar_df = pd.DataFrame(base_loads_solar)\n",
    "\n",
    "# compute number of consumers in each category, solar/nonsolar and participating solar/nonsolar\n",
    "solar_consumers = fs['solar']*num_consumers\n",
    "nonsolar_consumers = fs['nonsolar']*num_consumers\n",
    "participating_solar_consumers = fp['solar']*solar_consumers\n",
    "participating_nonsolar_consumers = fp['nonsolar']*nonsolar_consumers"
   ]
  },
  {
   "cell_type": "markdown",
   "id": "d11fee7b",
   "metadata": {},
   "source": [
    "## Data aggregation"
   ]
  },
  {
   "cell_type": "code",
   "execution_count": 7,
   "id": "e81433bb",
   "metadata": {},
   "outputs": [],
   "source": [
    "def aggregate_base_load():    \n",
    "    df = {}\n",
    "\n",
    "    df['nonsolar'] = {}\n",
    "    df['solar'] = {}\n",
    "    df['total'] = pd.DataFrame()\n",
    "\n",
    "    total_bill = 0\n",
    "\n",
    "    for segment in customer_segments:\n",
    "        df['nonsolar'][segment] = base_loads[segment].copy()\n",
    "        df['solar'][segment] = base_loads_solar[segment].copy()\n",
    "        df['nonsolar'][segment] *= nonsolar_consumers[segment].values[0]\n",
    "        df['solar'][segment] *= solar_consumers[segment].values[0]\n",
    "        df['total'][segment] = df['nonsolar'][segment] + df['solar'][segment]\n",
    "        \n",
    "        # compute the bill\n",
    "        total_bill += sum(df['solar'][segment] * tariff_plan[seg_tariff[segment]])\n",
    "        total_bill += sum(df['nonsolar'][segment] * tariff_plan[seg_tariff[segment]])\n",
    "        \n",
    "        # convert total units from KW to MW\n",
    "        df['total'][segment] /= 1e3\n",
    "    df['total']['agg'] = df['total'].sum(axis=1)\n",
    "    return df, total_bill"
   ]
  },
  {
   "cell_type": "markdown",
   "id": "2df8eb0c",
   "metadata": {},
   "source": [
    "## Generation"
   ]
  },
  {
   "cell_type": "code",
   "execution_count": 8,
   "id": "d370f307",
   "metadata": {},
   "outputs": [],
   "source": [
    "def compute_gen_curve(projected_demand, n=0):    \n",
    "    #RE Power generation profiles\n",
    "    \n",
    "    RE1=pd.read_excel(INPUT_PATH + 'RE.xlsx')\n",
    "    solar=RE_integration*RE1['Solar']\n",
    "    wind=RE1['Wind']\n",
    "    Solar_pu_cost = RE_PPA.iloc[0,0]\n",
    "    Wind_pu_cost = RE_PPA.iloc[0,1]\n",
    "    \n",
    "    RE=solar+wind\n",
    "\n",
    "    # Net demand for conventional genration\n",
    "    demand=projected_demand.values-RE\n",
    "\n",
    "    min_demand=min(demand)\n",
    "    max_demand=max(demand)\n",
    "    num_plants=len(ppa['Capacity'])\n",
    "    i=1\n",
    "    capacity =0\n",
    "   #technical minimum % considered in the analysis\n",
    "\n",
    "    for p in range(num_plants):\n",
    "        capacity = ppa.iloc[p,1]+capacity\n",
    "        if capacity>=max_demand:\n",
    "            break\n",
    "        else:\n",
    "            i=i+1\n",
    "\n",
    "# print(i,min_demand/max_demand) # should be greater than technical minimum considered for analysis\n",
    "\n",
    "    ppa.iloc[i:len(ppa)-1,1]=0\n",
    "    \n",
    "#...............................\n",
    "#     print(sum(ppa.iloc[0:num_plants,1]))\n",
    "\n",
    "    generation_capacity = ppa['Capacity']\n",
    "    technical_minimum_threshold = .55\n",
    "    technical_minimum=generation_capacity*technical_minimum_threshold\n",
    "    technical_minimum.iloc[-1]=0 # for the last unconstrained plan\n",
    "#     print(technical_minimum)\n",
    "    fixed_cost = ppa['Fixed cost']  # Fixed cost for each plant\n",
    "    Variable_cost=ppa['Variable cost']\n",
    "\n",
    "    ramping_up = ppa['Ramping_up'] # Ramping up limit for each plant\n",
    "    ramping_down = ppa['Ramping down']  # Ramping down limit for each plant\n",
    "    \n",
    "    \n",
    "    \n",
    "# print(technical_minimum)\n",
    "    num_plants=len(generation_capacity)\n",
    "    num_hours=len(projected_demand.values)\n",
    "\n",
    "\n",
    "\n",
    "    problem = LpProblem(\"Power Generation Optimization\", LpMinimize)\n",
    "\n",
    "    # Define the decision variables\n",
    "    schedule = [[LpVariable(f\"Schedule_{t}_{p}\", lowBound=0) for p in range(num_plants)] \n",
    "                for t in range(num_hours)]\n",
    "    \n",
    "\n",
    "    # Set the objective function\n",
    "    problem += lpSum(schedule[t][p] * Variable_cost[p] \n",
    "                    for t in range(num_hours) for p in range(num_plants))\n",
    "    \n",
    "\n",
    "    # Add the constraints\n",
    "\n",
    "    #ramping up and down constraints 1% for thermal, 3% for gas, 10% for hydro\n",
    "    for t in range(num_hours - 1):\n",
    "        for p in range(num_plants):\n",
    "            del_schedule = schedule[t+1][p] - schedule[t][p]\n",
    "            problem += ramping_down[p] <= del_schedule <= ramping_up[p]\n",
    "\n",
    "    # technical Minimum\n",
    "    for t in range(num_hours):\n",
    "        for p in range(num_plants):\n",
    "            x=schedule[t][p]\n",
    "            problem += x>=technical_minimum[p]\n",
    "\n",
    "\n",
    "    # Total generation in slot i = Total demand in slot i\n",
    "    for t in range(num_hours):\n",
    "        problem += lpSum(schedule[t][p] for p in range(num_plants)) ==1* demand[t]\n",
    "\n",
    "    # maximum generation limitaion max generation by plant i \n",
    "    # in any slot < = max generation capacity of plant i\n",
    "    for t in range(num_hours):\n",
    "        for p in range(num_plants):\n",
    "            problem += schedule[t][p] <= ppa['Capacity'][p]\n",
    "\n",
    "    # Solve the problem\n",
    "    problem.solve()\n",
    "\n",
    "    # Check the status of the solution\n",
    "    print('-----------------')\n",
    "    print(\"Generation optimisation Status:\", LpStatus[problem.status])  \n",
    "\n",
    "    # saving variable values in dataframe\n",
    "\n",
    "    schedule_gen = pd.DataFrame(index=range(num_hours), columns=range(num_plants))\n",
    "    for t in range(num_hours):\n",
    "        for p in range(num_plants):\n",
    "            schedule_gen.at[t, p] = schedule[t][p].varValue\n",
    "\n",
    "    # dataframe to excel\n",
    "    schedule_gen.to_csv(OUTPUT_PATH + \"schedule_output_\" + str(n) + \".csv\", index=False)\n",
    "\n",
    "    # cost of generation\n",
    "\n",
    "    daily_generation=schedule_gen.sum()*(24/num_hours)\n",
    "\n",
    "    daily_generation_2=schedule_gen.sum(axis=1)\n",
    "\n",
    "    # RE cost\n",
    "    solar_cost=Solar_pu_cost*solar\n",
    "    wind_cost=wind*Wind_pu_cost\n",
    "    RE_cost = solar_cost+wind_cost\n",
    "\n",
    "    ## Required output ............................\n",
    "    # Slot wise total cost INR / conventional + RE\n",
    "    slot_wise_cost=(schedule_gen.dot(np.array(Variable_cost)) +RE_cost)\n",
    "    slot_wise_cost1 = slot_wise_cost*1000*24/num_hours\n",
    "    #...................................................................\n",
    "    # Slot wise PU cost INR/kWh\n",
    "    slot_wise_pu=slot_wise_cost1/(1000*(demand+RE)*24/num_hours)      \n",
    "\n",
    "    return slot_wise_cost, slot_wise_cost1, slot_wise_pu    "
   ]
  },
  {
   "cell_type": "markdown",
   "id": "cb72d066",
   "metadata": {},
   "source": [
    "## Consumer load optimization"
   ]
  },
  {
   "cell_type": "code",
   "execution_count": 9,
   "id": "83bd443d",
   "metadata": {},
   "outputs": [],
   "source": [
    "def optimal_load_curve1(tariff1, load):\n",
    "\n",
    "    tariff=pd.DataFrame()\n",
    "    wh_load = load.iloc[:, 1:6]\n",
    "    wp_load = load.iloc[:, 6:11]\n",
    "    b_charge = load.iloc[:, 11:17]\n",
    "    b_discharge = load.iloc[:, 17:23]\n",
    "    hvac_max = load.iloc[:, 23]\n",
    "    hvac_min = 0.8 * hvac_max\n",
    "    fixed_load = load.iloc[:, 24]\n",
    "   \n",
    "    tariff['Tariff']=tariff1\n",
    "    \n",
    "    hours = len(fixed_load)\n",
    "    wpp = len(wp_load.columns)\n",
    "    whp = len(wh_load.columns)\n",
    "    bcp = len(b_charge.columns)\n",
    "    bdp = len(b_discharge.columns)\n",
    "\n",
    "    # Create the LP problem\n",
    "    Bill_optimization = LpProblem(\"Bill_optimization\", LpMinimize)\n",
    "\n",
    "    # Variables\n",
    "    hvac = [LpVariable(f\"{i}_hvac\", lowBound=hvac_min[i]) for i in range(hours)]\n",
    "\n",
    "    shift_pump = [LpVariable(f\"Shift_pump_{i}\", lowBound=0, cat='Binary') for i in range(wpp)]\n",
    "    shift_wh = [LpVariable(f\"Shift_wh_{i}\", lowBound=0, cat='Binary') for i in range(whp)]\n",
    "    shift_bc = [LpVariable(f\"Shift_bc_{i}\", lowBound=0, cat='Binary') for i in range(bcp)]\n",
    "    shift_bd = [LpVariable(f\"Shift_bd_{i}\", lowBound=0, cat='Binary') for i in range(bdp)]\n",
    "\n",
    "    # Constraints\n",
    "    Bill_optimization += lpSum(shift_pump) == 1\n",
    "    Bill_optimization += lpSum(shift_wh) == 1\n",
    "    Bill_optimization += lpSum(shift_bc) == 1\n",
    "    Bill_optimization += lpSum(shift_bd) == 1\n",
    "\n",
    "    for t in range(hours):\n",
    "        Bill_optimization += hvac_min[t] <= hvac[t] <= 1.2*hvac_max[t]\n",
    "\n",
    "    Bill_optimization += lpSum(hvac[t] for t in range(hours)) >= 1* hvac_max.sum()\n",
    "\n",
    "    # Set the objective function\n",
    "    Bill_optimization += lpSum((hvac[t] + wh_load.iloc[t, :].dot(shift_wh) + wp_load.iloc[t, :].dot(shift_pump) + b_charge.iloc[t, :].dot(shift_bc) + b_discharge.iloc[t, :].dot(shift_bd)) * tariff['Tariff'][t] for t in range(hours))\n",
    "\n",
    "    # Solve the problem\n",
    "    Bill_optimization.solve()\n",
    "\n",
    "    # Check the status of the solution\n",
    "#     print(\"Status:\", LpStatus[Bill_optimization.status])\n",
    "\n",
    "    # Variables to DataFrames\n",
    "    hvac_sc = pd.DataFrame(index=range(len(hvac)), columns=range(1))\n",
    "    wp_sc = pd.DataFrame(index=range(len(shift_pump)), columns=range(1))\n",
    "    wh_sc = pd.DataFrame(index=range(len(shift_wh)), columns=range(1))\n",
    "    bc_sc = pd.DataFrame(index=range(len(shift_bc)), columns=range(1))\n",
    "    bd_sc = pd.DataFrame(index=range(len(shift_bd)), columns=range(1))\n",
    "\n",
    "    for i in range(len(hvac)):\n",
    "        hvac_sc.iloc[i,0]=hvac[i].varValue\n",
    "    \n",
    "    for i in range(len(shift_pump)):\n",
    "        wp_sc.iloc[i,0]=shift_pump[i].varValue\n",
    "        if wp_sc.iloc[i,0]==1:\n",
    "            wpsc_n = i\n",
    "            \n",
    "    for i in range(len(shift_wh)):\n",
    "        wh_sc.iloc[i,0]=shift_wh[i].varValue\n",
    "        if wh_sc.iloc[i,0]==1:\n",
    "            whsc_n = i\n",
    "            \n",
    "    for i in range(len(shift_bc)):\n",
    "        bc_sc.iloc[i,0]=shift_bc[i].varValue\n",
    "        if bc_sc.iloc[i,0]==1:\n",
    "            bcsc_n = i\n",
    "            \n",
    "    for i in range(len(shift_bd)):\n",
    "        bd_sc.iloc[i,0]=shift_bd[i].varValue\n",
    "        if bd_sc.iloc[i,0]==1:\n",
    "            bdsc_n = i\n",
    "    #-----------------------------------------------------------------------------------------------------\n",
    "    ## output = load profile    \n",
    "    load_profile =fixed_load.iloc[:]+b_charge.iloc[:,bcsc_n]+b_discharge.iloc[:,bdsc_n]+wp_load.iloc[:,wpsc_n]+wh_load.iloc[:,whsc_n]+hvac_sc.iloc[0:24,0]\n",
    "    return load_profile\n",
    "\n",
    "\n",
    "def compute_optimal_load_curve1(pricing_signal):\n",
    "    optimal_load_curve = pd.DataFrame()\n",
    "    total_bill = 0\n",
    "\n",
    "#     print(base_loads_df, nonsolar_consumers)\n",
    "    a = base_loads_df * (nonsolar_consumers - participating_nonsolar_consumers).iloc[0] + \\\n",
    "        base_loads_solar_df * (solar_consumers - participating_solar_consumers).iloc[0]\n",
    "\n",
    "    b = pd.DataFrame()\n",
    "    c = pd.DataFrame()\n",
    "\n",
    "    for s in customer_segments:   \n",
    "        base_assumptions = base_base[s]\n",
    "        tarrif= pricing_signal[seg_tariff[s]]\n",
    "#         print(tarrif, base_assumptions)\n",
    "        optimal_load=optimal_load_curve1(tarrif,base_assumptions)\n",
    "       \n",
    "                \n",
    "        b[s] = optimal_load * participating_nonsolar_consumers[s].values[0]\n",
    "\n",
    "        c[s] = (optimal_load - base_solar[s]) * participating_solar_consumers[s].values[0]\n",
    "        \n",
    "        # compute the bill\n",
    "        total_bill += sum(a[s] * tariff_plan[seg_tariff[s]])\n",
    "        total_bill += sum(b[s] * pricing_signal[seg_tariff[s]])\n",
    "        total_bill += sum(c[s] * pricing_signal[seg_tariff[s]])\n",
    "\n",
    "    # aggregate the fixed plus optimal load\n",
    "    optimal_load_curve = a + b + c\n",
    "#     print(optimal_load_curve.iloc[0,:].sum()/1e3)\n",
    "    \n",
    "    optimal_load_curve['agg'] = optimal_load_curve.sum(axis=1)\n",
    "    optimal_load_curve /= 1e3 # convert KW to MW for generation cost computations\n",
    "    return optimal_load_curve, total_bill"
   ]
  },
  {
   "cell_type": "markdown",
   "id": "7441ac10",
   "metadata": {},
   "source": [
    "## Tariff setting"
   ]
  },
  {
   "cell_type": "code",
   "execution_count": 10,
   "id": "417933e4",
   "metadata": {},
   "outputs": [],
   "source": [
    "def similar_costs(curr,prev):\n",
    "    cost_diff = (prev-curr)/prev\n",
    "    if cost_diff < 0:\n",
    "        return True\n",
    "    if cost_diff < epsilon:\n",
    "        return True\n",
    "    else: \n",
    "        return False\n",
    "    \n",
    "n = 0\n",
    "\n",
    "# set initial pricing signal\n",
    "pricing_signal = {}\n",
    "iterative_load = {}\n",
    "iterative_gen_cost = {}\n",
    "iterative_bill = {}\n",
    "iterative_gen_cost_total = {}\n",
    "\n",
    "\n",
    "# Aggregate base loads and add losses to compute projected_demand\n",
    "total_base_load, total_bill = aggregate_base_load()\n",
    "\n",
    "projected_demand = total_base_load['total']['agg'] / (1 - losses)"
   ]
  },
  {
   "cell_type": "markdown",
   "id": "99b5e9cc",
   "metadata": {},
   "source": [
    "## Compute generation cost"
   ]
  },
  {
   "cell_type": "code",
   "execution_count": 11,
   "id": "d7d92557",
   "metadata": {},
   "outputs": [
    {
     "name": "stdout",
     "output_type": "stream",
     "text": [
      "Welcome to the CBC MILP Solver \n",
      "Version: 2.10.3 \n",
      "Build Date: Dec 15 2019 \n",
      "\n",
      "command line - /home/anoop/.pyenv/versions/3.10.2/envs/mpen/lib/python3.10/site-packages/pulp/solverdir/cbc/linux/64/cbc /tmp/53276180790144bbb8bb825fd159a687-pulp.mps timeMode elapsed branch printingOptions all solution /tmp/53276180790144bbb8bb825fd159a687-pulp.sol (default strategy 1)\n",
      "At line 2 NAME          MODEL\n",
      "At line 3 ROWS\n",
      "At line 2940 COLUMNS\n",
      "At line 8763 RHS\n",
      "At line 11699 BOUNDS\n",
      "At line 11700 ENDATA\n",
      "Problem MODEL has 2935 rows, 984 columns and 4838 elements\n",
      "Coin0008I MODEL read with 0 errors\n",
      "Option for timeMode changed from cpu to elapsed\n",
      "Presolve determined that the problem was infeasible with tolerance of 1e-08\n",
      "Analysis indicates model infeasible or unbounded\n",
      "Perturbing problem by 0.001% of 25.9558 - largest nonzero change 9.9578345e-05 ( 0.0034443765%) - largest zero change 0\n",
      "0  Obj 0 Primal inf 199677.13 (360)\n",
      "133  Obj 168197.85 Primal inf 153372.84 (252)\n",
      "266  Obj 210143.82 Primal inf 24302.693 (132)\n",
      "288  Obj 211014.72 Primal inf 17793.122 (110)\n",
      "Primal infeasible - objective value 211014.72\n",
      "PrimalInfeasible objective 211014.7232 - 288 iterations time 0.012\n",
      "\n",
      "Result - Linear relaxation infeasible\n",
      "\n",
      "Enumerated nodes:           0\n",
      "Total iterations:           0\n",
      "Time (CPU seconds):         0.03\n",
      "Time (Wallclock Seconds):   0.06\n",
      "\n",
      "Option for printingOptions changed from normal to all\n",
      "Total time (CPU seconds):       0.04   (Wallclock seconds):       0.07\n",
      "\n",
      "-----------------\n",
      "Generation optimisation Status: Infeasible\n",
      "Welcome to the CBC MILP Solver \n",
      "Version: 2.10.3 \n",
      "Build Date: Dec 15 2019 \n",
      "\n",
      "command line - /home/anoop/.pyenv/versions/3.10.2/envs/mpen/lib/python3.10/site-packages/pulp/solverdir/cbc/linux/64/cbc /tmp/63a0f3e45b3740218965556d3c089d46-pulp.mps timeMode elapsed branch printingOptions all solution /tmp/63a0f3e45b3740218965556d3c089d46-pulp.sol (default strategy 1)\n",
      "At line 2 NAME          MODEL\n",
      "At line 3 ROWS\n",
      "At line 34 COLUMNS\n",
      "At line 195 RHS\n",
      "At line 225 BOUNDS\n",
      "At line 272 ENDATA\n",
      "Problem MODEL has 29 rows, 46 columns and 70 elements\n",
      "Coin0008I MODEL read with 0 errors\n",
      "Option for timeMode changed from cpu to elapsed\n",
      "Continuous objective value is 82.3347 - 0.00 seconds\n",
      "Cgl0004I processed model has 1 rows, 24 columns (0 integer (0 of which binary)) and 24 elements\n",
      "Cbc3007W No integer variables - nothing to do\n",
      "Cuts at root node changed objective from 82.3347 to -1.79769e+308\n",
      "Probing was tried 0 times and created 0 cuts of which 0 were active after adding rounds of cuts (0.000 seconds)\n",
      "Gomory was tried 0 times and created 0 cuts of which 0 were active after adding rounds of cuts (0.000 seconds)\n",
      "Knapsack was tried 0 times and created 0 cuts of which 0 were active after adding rounds of cuts (0.000 seconds)\n",
      "Clique was tried 0 times and created 0 cuts of which 0 were active after adding rounds of cuts (0.000 seconds)\n",
      "MixedIntegerRounding2 was tried 0 times and created 0 cuts of which 0 were active after adding rounds of cuts (0.000 seconds)\n",
      "FlowCover was tried 0 times and created 0 cuts of which 0 were active after adding rounds of cuts (0.000 seconds)\n",
      "TwoMirCuts was tried 0 times and created 0 cuts of which 0 were active after adding rounds of cuts (0.000 seconds)\n",
      "ZeroHalf was tried 0 times and created 0 cuts of which 0 were active after adding rounds of cuts (0.000 seconds)\n",
      "\n",
      "Result - Optimal solution found\n",
      "\n",
      "Objective value:                82.33471517\n",
      "Enumerated nodes:               0\n",
      "Total iterations:               0\n",
      "Time (CPU seconds):             0.00\n",
      "Time (Wallclock seconds):       0.00\n",
      "\n",
      "Option for printingOptions changed from normal to all\n",
      "Total time (CPU seconds):       0.00   (Wallclock seconds):       0.00\n",
      "\n",
      "Welcome to the CBC MILP Solver \n",
      "Version: 2.10.3 \n",
      "Build Date: Dec 15 2019 \n",
      "\n",
      "command line - /home/anoop/.pyenv/versions/3.10.2/envs/mpen/lib/python3.10/site-packages/pulp/solverdir/cbc/linux/64/cbc /tmp/9362e36790e940a38677ff210d7b5b6c-pulp.mps timeMode elapsed branch printingOptions all solution /tmp/9362e36790e940a38677ff210d7b5b6c-pulp.sol (default strategy 1)\n",
      "At line 2 NAME          MODEL\n",
      "At line 3 ROWS\n",
      "At line 34 COLUMNS\n",
      "At line 195 RHS\n",
      "At line 225 BOUNDS\n",
      "At line 272 ENDATA\n",
      "Problem MODEL has 29 rows, 46 columns and 70 elements\n",
      "Coin0008I MODEL read with 0 errors\n",
      "Option for timeMode changed from cpu to elapsed\n",
      "Continuous objective value is 75363.6 - 0.00 seconds\n",
      "Cgl0004I processed model has 1 rows, 24 columns (0 integer (0 of which binary)) and 24 elements\n",
      "Cutoff increment increased from 1e-05 to 0.00999\n",
      "Cbc3007W No integer variables - nothing to do\n",
      "Cuts at root node changed objective from 75363.6 to -1.79769e+308\n",
      "Probing was tried 0 times and created 0 cuts of which 0 were active after adding rounds of cuts (0.000 seconds)\n",
      "Gomory was tried 0 times and created 0 cuts of which 0 were active after adding rounds of cuts (0.000 seconds)\n",
      "Knapsack was tried 0 times and created 0 cuts of which 0 were active after adding rounds of cuts (0.000 seconds)\n",
      "Clique was tried 0 times and created 0 cuts of which 0 were active after adding rounds of cuts (0.000 seconds)\n",
      "MixedIntegerRounding2 was tried 0 times and created 0 cuts of which 0 were active after adding rounds of cuts (0.000 seconds)\n",
      "FlowCover was tried 0 times and created 0 cuts of which 0 were active after adding rounds of cuts (0.000 seconds)\n",
      "TwoMirCuts was tried 0 times and created 0 cuts of which 0 were active after adding rounds of cuts (0.000 seconds)\n",
      "ZeroHalf was tried 0 times and created 0 cuts of which 0 were active after adding rounds of cuts (0.000 seconds)\n",
      "\n",
      "Result - Optimal solution found\n",
      "\n",
      "Objective value:                75363.60000000\n",
      "Enumerated nodes:               0\n",
      "Total iterations:               0\n",
      "Time (CPU seconds):             0.00\n",
      "Time (Wallclock seconds):       0.00\n",
      "\n",
      "Option for printingOptions changed from normal to all\n",
      "Total time (CPU seconds):       0.00   (Wallclock seconds):       0.00\n",
      "\n",
      "Welcome to the CBC MILP Solver \n",
      "Version: 2.10.3 \n",
      "Build Date: Dec 15 2019 \n",
      "\n",
      "command line - /home/anoop/.pyenv/versions/3.10.2/envs/mpen/lib/python3.10/site-packages/pulp/solverdir/cbc/linux/64/cbc /tmp/2b59c1eedb914ae5b2805e6ba9f961b9-pulp.mps timeMode elapsed branch printingOptions all solution /tmp/2b59c1eedb914ae5b2805e6ba9f961b9-pulp.sol (default strategy 1)\n",
      "At line 2 NAME          MODEL\n",
      "At line 3 ROWS\n",
      "At line 34 COLUMNS\n",
      "At line 195 RHS\n",
      "At line 225 BOUNDS\n",
      "At line 272 ENDATA\n",
      "Problem MODEL has 29 rows, 46 columns and 70 elements\n",
      "Coin0008I MODEL read with 0 errors\n",
      "Option for timeMode changed from cpu to elapsed\n",
      "Continuous objective value is 208838 - 0.00 seconds\n",
      "Cgl0004I processed model has 1 rows, 24 columns (0 integer (0 of which binary)) and 24 elements\n",
      "Cbc3007W No integer variables - nothing to do\n",
      "Cuts at root node changed objective from 208838 to -1.79769e+308\n",
      "Probing was tried 0 times and created 0 cuts of which 0 were active after adding rounds of cuts (0.000 seconds)\n",
      "Gomory was tried 0 times and created 0 cuts of which 0 were active after adding rounds of cuts (0.000 seconds)\n",
      "Knapsack was tried 0 times and created 0 cuts of which 0 were active after adding rounds of cuts (0.000 seconds)\n",
      "Clique was tried 0 times and created 0 cuts of which 0 were active after adding rounds of cuts (0.000 seconds)\n",
      "MixedIntegerRounding2 was tried 0 times and created 0 cuts of which 0 were active after adding rounds of cuts (0.000 seconds)\n",
      "FlowCover was tried 0 times and created 0 cuts of which 0 were active after adding rounds of cuts (0.000 seconds)\n",
      "TwoMirCuts was tried 0 times and created 0 cuts of which 0 were active after adding rounds of cuts (0.000 seconds)\n",
      "ZeroHalf was tried 0 times and created 0 cuts of which 0 were active after adding rounds of cuts (0.000 seconds)\n",
      "\n",
      "Result - Optimal solution found\n",
      "\n",
      "Objective value:                208838.00000000\n",
      "Enumerated nodes:               0\n",
      "Total iterations:               0\n",
      "Time (CPU seconds):             0.00\n",
      "Time (Wallclock seconds):       0.00\n",
      "\n",
      "Option for printingOptions changed from normal to all\n",
      "Total time (CPU seconds):       0.00   (Wallclock seconds):       0.00\n",
      "\n",
      "Welcome to the CBC MILP Solver \n",
      "Version: 2.10.3 \n",
      "Build Date: Dec 15 2019 \n",
      "\n",
      "command line - /home/anoop/.pyenv/versions/3.10.2/envs/mpen/lib/python3.10/site-packages/pulp/solverdir/cbc/linux/64/cbc /tmp/b30adb2fab7e4ccc8150885de2c1fbe2-pulp.mps timeMode elapsed branch printingOptions all solution /tmp/b30adb2fab7e4ccc8150885de2c1fbe2-pulp.sol (default strategy 1)\n",
      "At line 2 NAME          MODEL\n",
      "At line 3 ROWS\n",
      "At line 34 COLUMNS\n",
      "At line 190 RHS\n",
      "At line 220 BOUNDS\n",
      "At line 253 ENDATA\n",
      "Problem MODEL has 29 rows, 46 columns and 70 elements\n",
      "Coin0008I MODEL read with 0 errors\n",
      "Option for timeMode changed from cpu to elapsed\n",
      "Continuous objective value is 155901 - 0.00 seconds\n",
      "Cgl0004I processed model has 1 rows, 10 columns (0 integer (0 of which binary)) and 10 elements\n",
      "Cutoff increment increased from 1e-05 to 0.00999\n",
      "Cbc3007W No integer variables - nothing to do\n",
      "Cuts at root node changed objective from 155901 to -1.79769e+308\n",
      "Probing was tried 0 times and created 0 cuts of which 0 were active after adding rounds of cuts (0.000 seconds)\n",
      "Gomory was tried 0 times and created 0 cuts of which 0 were active after adding rounds of cuts (0.000 seconds)\n",
      "Knapsack was tried 0 times and created 0 cuts of which 0 were active after adding rounds of cuts (0.000 seconds)\n",
      "Clique was tried 0 times and created 0 cuts of which 0 were active after adding rounds of cuts (0.000 seconds)\n",
      "MixedIntegerRounding2 was tried 0 times and created 0 cuts of which 0 were active after adding rounds of cuts (0.000 seconds)\n",
      "FlowCover was tried 0 times and created 0 cuts of which 0 were active after adding rounds of cuts (0.000 seconds)\n",
      "TwoMirCuts was tried 0 times and created 0 cuts of which 0 were active after adding rounds of cuts (0.000 seconds)\n",
      "ZeroHalf was tried 0 times and created 0 cuts of which 0 were active after adding rounds of cuts (0.000 seconds)\n",
      "\n",
      "Result - Optimal solution found\n",
      "\n",
      "Objective value:                155901.00000000\n",
      "Enumerated nodes:               0\n",
      "Total iterations:               0\n",
      "Time (CPU seconds):             0.00\n",
      "Time (Wallclock seconds):       0.00\n",
      "\n",
      "Option for printingOptions changed from normal to all\n",
      "Total time (CPU seconds):       0.00   (Wallclock seconds):       0.00\n",
      "\n",
      "Welcome to the CBC MILP Solver \n",
      "Version: 2.10.3 \n",
      "Build Date: Dec 15 2019 \n",
      "\n",
      "command line - /home/anoop/.pyenv/versions/3.10.2/envs/mpen/lib/python3.10/site-packages/pulp/solverdir/cbc/linux/64/cbc /tmp/2ae01828d8984b5b9f40f551805c67c0-pulp.mps timeMode elapsed branch printingOptions all solution /tmp/2ae01828d8984b5b9f40f551805c67c0-pulp.sol (default strategy 1)\n",
      "At line 2 NAME          MODEL\n",
      "At line 3 ROWS\n",
      "At line 34 COLUMNS\n",
      "At line 190 RHS\n",
      "At line 220 BOUNDS\n",
      "At line 255 ENDATA\n",
      "Problem MODEL has 29 rows, 46 columns and 70 elements\n",
      "Coin0008I MODEL read with 0 errors\n",
      "Option for timeMode changed from cpu to elapsed\n",
      "Continuous objective value is 13819.5 - 0.00 seconds\n",
      "Cgl0004I processed model has 1 rows, 12 columns (0 integer (0 of which binary)) and 12 elements\n",
      "Cutoff increment increased from 1e-05 to 0.00999\n",
      "Cbc3007W No integer variables - nothing to do\n",
      "Cuts at root node changed objective from 13819.5 to -1.79769e+308\n",
      "Probing was tried 0 times and created 0 cuts of which 0 were active after adding rounds of cuts (0.000 seconds)\n",
      "Gomory was tried 0 times and created 0 cuts of which 0 were active after adding rounds of cuts (0.000 seconds)\n",
      "Knapsack was tried 0 times and created 0 cuts of which 0 were active after adding rounds of cuts (0.000 seconds)\n",
      "Clique was tried 0 times and created 0 cuts of which 0 were active after adding rounds of cuts (0.000 seconds)\n",
      "MixedIntegerRounding2 was tried 0 times and created 0 cuts of which 0 were active after adding rounds of cuts (0.000 seconds)\n",
      "FlowCover was tried 0 times and created 0 cuts of which 0 were active after adding rounds of cuts (0.000 seconds)\n",
      "TwoMirCuts was tried 0 times and created 0 cuts of which 0 were active after adding rounds of cuts (0.000 seconds)\n",
      "ZeroHalf was tried 0 times and created 0 cuts of which 0 were active after adding rounds of cuts (0.000 seconds)\n",
      "\n",
      "Result - Optimal solution found\n",
      "\n",
      "Objective value:                13819.50000000\n",
      "Enumerated nodes:               0\n",
      "Total iterations:               0\n",
      "Time (CPU seconds):             0.00\n",
      "Time (Wallclock seconds):       0.00\n",
      "\n",
      "Option for printingOptions changed from normal to all\n",
      "Total time (CPU seconds):       0.00   (Wallclock seconds):       0.00\n",
      "\n",
      "Welcome to the CBC MILP Solver \n",
      "Version: 2.10.3 \n",
      "Build Date: Dec 15 2019 \n",
      "\n",
      "command line - /home/anoop/.pyenv/versions/3.10.2/envs/mpen/lib/python3.10/site-packages/pulp/solverdir/cbc/linux/64/cbc /tmp/3397651a5b294ef3a8c55247d0d25fc1-pulp.mps timeMode elapsed branch printingOptions all solution /tmp/3397651a5b294ef3a8c55247d0d25fc1-pulp.sol (default strategy 1)\n",
      "At line 2 NAME          MODEL\n",
      "At line 3 ROWS\n",
      "At line 34 COLUMNS\n",
      "At line 190 RHS\n",
      "At line 220 BOUNDS\n",
      "At line 267 ENDATA\n",
      "Problem MODEL has 29 rows, 46 columns and 70 elements\n",
      "Coin0008I MODEL read with 0 errors\n",
      "Option for timeMode changed from cpu to elapsed\n",
      "Continuous objective value is 186801 - 0.00 seconds\n",
      "Cgl0004I processed model has 1 rows, 24 columns (0 integer (0 of which binary)) and 24 elements\n",
      "Cbc3007W No integer variables - nothing to do\n",
      "Cuts at root node changed objective from 186801 to -1.79769e+308\n",
      "Probing was tried 0 times and created 0 cuts of which 0 were active after adding rounds of cuts (0.000 seconds)\n",
      "Gomory was tried 0 times and created 0 cuts of which 0 were active after adding rounds of cuts (0.000 seconds)\n",
      "Knapsack was tried 0 times and created 0 cuts of which 0 were active after adding rounds of cuts (0.000 seconds)\n",
      "Clique was tried 0 times and created 0 cuts of which 0 were active after adding rounds of cuts (0.000 seconds)\n",
      "MixedIntegerRounding2 was tried 0 times and created 0 cuts of which 0 were active after adding rounds of cuts (0.000 seconds)\n",
      "FlowCover was tried 0 times and created 0 cuts of which 0 were active after adding rounds of cuts (0.000 seconds)\n",
      "TwoMirCuts was tried 0 times and created 0 cuts of which 0 were active after adding rounds of cuts (0.000 seconds)\n",
      "ZeroHalf was tried 0 times and created 0 cuts of which 0 were active after adding rounds of cuts (0.000 seconds)\n",
      "\n",
      "Result - Optimal solution found\n",
      "\n",
      "Objective value:                186800.80000000\n",
      "Enumerated nodes:               0\n",
      "Total iterations:               0\n",
      "Time (CPU seconds):             0.00\n",
      "Time (Wallclock seconds):       0.00\n",
      "\n",
      "Option for printingOptions changed from normal to all\n",
      "Total time (CPU seconds):       0.00   (Wallclock seconds):       0.00\n",
      "\n",
      "Welcome to the CBC MILP Solver \n",
      "Version: 2.10.3 \n",
      "Build Date: Dec 15 2019 \n",
      "\n",
      "command line - /home/anoop/.pyenv/versions/3.10.2/envs/mpen/lib/python3.10/site-packages/pulp/solverdir/cbc/linux/64/cbc /tmp/095d0de00764414e8d622736e80f8a17-pulp.mps timeMode elapsed branch printingOptions all solution /tmp/095d0de00764414e8d622736e80f8a17-pulp.sol (default strategy 1)\n",
      "At line 2 NAME          MODEL\n",
      "At line 3 ROWS\n",
      "At line 34 COLUMNS\n",
      "At line 173 RHS\n",
      "At line 203 BOUNDS\n",
      "At line 250 ENDATA\n",
      "Problem MODEL has 29 rows, 46 columns and 70 elements\n",
      "Coin0008I MODEL read with 0 errors\n",
      "Option for timeMode changed from cpu to elapsed\n",
      "Continuous objective value is 11792.5 - 0.00 seconds\n",
      "Cgl0004I processed model has 1 rows, 24 columns (0 integer (0 of which binary)) and 24 elements\n",
      "Cbc3007W No integer variables - nothing to do\n",
      "Cuts at root node changed objective from 11792.5 to -1.79769e+308\n",
      "Probing was tried 0 times and created 0 cuts of which 0 were active after adding rounds of cuts (0.000 seconds)\n",
      "Gomory was tried 0 times and created 0 cuts of which 0 were active after adding rounds of cuts (0.000 seconds)\n",
      "Knapsack was tried 0 times and created 0 cuts of which 0 were active after adding rounds of cuts (0.000 seconds)\n",
      "Clique was tried 0 times and created 0 cuts of which 0 were active after adding rounds of cuts (0.000 seconds)\n",
      "MixedIntegerRounding2 was tried 0 times and created 0 cuts of which 0 were active after adding rounds of cuts (0.000 seconds)\n",
      "FlowCover was tried 0 times and created 0 cuts of which 0 were active after adding rounds of cuts (0.000 seconds)\n",
      "TwoMirCuts was tried 0 times and created 0 cuts of which 0 were active after adding rounds of cuts (0.000 seconds)\n",
      "ZeroHalf was tried 0 times and created 0 cuts of which 0 were active after adding rounds of cuts (0.000 seconds)\n",
      "\n",
      "Result - Optimal solution found\n",
      "\n",
      "Objective value:                11792.51000000\n",
      "Enumerated nodes:               0\n",
      "Total iterations:               0\n",
      "Time (CPU seconds):             0.00\n",
      "Time (Wallclock seconds):       0.00\n",
      "\n",
      "Option for printingOptions changed from normal to all\n",
      "Total time (CPU seconds):       0.00   (Wallclock seconds):       0.00\n",
      "\n",
      "Welcome to the CBC MILP Solver \n",
      "Version: 2.10.3 \n",
      "Build Date: Dec 15 2019 \n",
      "\n",
      "command line - /home/anoop/.pyenv/versions/3.10.2/envs/mpen/lib/python3.10/site-packages/pulp/solverdir/cbc/linux/64/cbc /tmp/b31779568b2d4529bc9aef4165895b08-pulp.mps timeMode elapsed branch printingOptions all solution /tmp/b31779568b2d4529bc9aef4165895b08-pulp.sol (default strategy 1)\n",
      "At line 2 NAME          MODEL\n",
      "At line 3 ROWS\n",
      "At line 34 COLUMNS\n",
      "At line 173 RHS\n",
      "At line 203 BOUNDS\n",
      "At line 250 ENDATA\n",
      "Problem MODEL has 29 rows, 46 columns and 70 elements\n",
      "Coin0008I MODEL read with 0 errors\n",
      "Option for timeMode changed from cpu to elapsed\n",
      "Continuous objective value is 199094 - 0.00 seconds\n",
      "Cgl0004I processed model has 1 rows, 24 columns (0 integer (0 of which binary)) and 24 elements\n",
      "Cbc3007W No integer variables - nothing to do\n",
      "Cuts at root node changed objective from 199094 to -1.79769e+308\n",
      "Probing was tried 0 times and created 0 cuts of which 0 were active after adding rounds of cuts (0.000 seconds)\n",
      "Gomory was tried 0 times and created 0 cuts of which 0 were active after adding rounds of cuts (0.000 seconds)\n",
      "Knapsack was tried 0 times and created 0 cuts of which 0 were active after adding rounds of cuts (0.000 seconds)\n",
      "Clique was tried 0 times and created 0 cuts of which 0 were active after adding rounds of cuts (0.000 seconds)\n",
      "MixedIntegerRounding2 was tried 0 times and created 0 cuts of which 0 were active after adding rounds of cuts (0.000 seconds)\n",
      "FlowCover was tried 0 times and created 0 cuts of which 0 were active after adding rounds of cuts (0.000 seconds)\n",
      "TwoMirCuts was tried 0 times and created 0 cuts of which 0 were active after adding rounds of cuts (0.000 seconds)\n",
      "ZeroHalf was tried 0 times and created 0 cuts of which 0 were active after adding rounds of cuts (0.000 seconds)\n",
      "\n",
      "Result - Optimal solution found\n",
      "\n",
      "Objective value:                199093.94000000\n",
      "Enumerated nodes:               0\n",
      "Total iterations:               0\n",
      "Time (CPU seconds):             0.00\n",
      "Time (Wallclock seconds):       0.00\n",
      "\n",
      "Option for printingOptions changed from normal to all\n",
      "Total time (CPU seconds):       0.00   (Wallclock seconds):       0.00\n",
      "\n",
      "Welcome to the CBC MILP Solver \n",
      "Version: 2.10.3 \n",
      "Build Date: Dec 15 2019 \n",
      "\n",
      "command line - /home/anoop/.pyenv/versions/3.10.2/envs/mpen/lib/python3.10/site-packages/pulp/solverdir/cbc/linux/64/cbc /tmp/0cbe747e88f14d77abff2f9191e01da7-pulp.mps timeMode elapsed branch printingOptions all solution /tmp/0cbe747e88f14d77abff2f9191e01da7-pulp.sol (default strategy 1)\n",
      "At line 2 NAME          MODEL\n",
      "At line 3 ROWS\n",
      "At line 2940 COLUMNS\n",
      "At line 8763 RHS\n",
      "At line 11699 BOUNDS\n",
      "At line 11700 ENDATA\n",
      "Problem MODEL has 2935 rows, 984 columns and 4838 elements\n",
      "Coin0008I MODEL read with 0 errors\n",
      "Option for timeMode changed from cpu to elapsed\n",
      "Presolve determined that the problem was infeasible with tolerance of 1e-08\n",
      "Analysis indicates model infeasible or unbounded\n",
      "Perturbing problem by 0.001% of 25.9558 - largest nonzero change 9.9578345e-05 ( 0.0034443765%) - largest zero change 0\n",
      "0  Obj 0 Primal inf 199677.13 (360)\n",
      "133  Obj 168233.07 Primal inf 151730.36 (250)\n",
      "266  Obj 210818.54 Primal inf 21143.644 (128)\n",
      "286  Obj 211182.84 Primal inf 17808.687 (114)\n",
      "Primal infeasible - objective value 211182.84\n",
      "PrimalInfeasible objective 211182.8409 - 286 iterations time 0.012\n",
      "\n",
      "Result - Linear relaxation infeasible\n",
      "\n",
      "Enumerated nodes:           0\n",
      "Total iterations:           0\n",
      "Time (CPU seconds):         0.01\n",
      "Time (Wallclock Seconds):   0.01\n",
      "\n",
      "Option for printingOptions changed from normal to all\n",
      "Total time (CPU seconds):       0.01   (Wallclock seconds):       0.01\n",
      "\n",
      "-----------------\n",
      "Generation optimisation Status: Infeasible\n"
     ]
    }
   ],
   "source": [
    "# Compute generation_costs for aggregate base loads\n",
    "slot_wise_cost, slot_wise_cost1, slot_wise_pu = compute_gen_curve(projected_demand)\n",
    "iterative_gen_cost[n] = slot_wise_pu\n",
    "iterative_load[n] = projected_demand\n",
    "iterative_bill[n] = total_bill\n",
    "iterative_gen_cost_total[n] =slot_wise_cost1\n",
    "# print(slot_wise_cost[2])\n",
    "\n",
    "pricing_signal[n] = tariff_plan\n",
    "\n",
    "\n",
    "prev_gen_cost1 = slot_wise_cost1\n",
    "\n",
    "\n",
    "while n < max_iters:        \n",
    "    #1 - send pricing signal to consumers\n",
    "    n += 1\n",
    "    pricing_signal[n] = pricing_signal[n-1].copy()\n",
    "\n",
    "    #2 - consumers send optimal load curves\n",
    "    optimal_load_curve, optimal_bill = compute_optimal_load_curve1(pricing_signal[n])\n",
    "#     print(optimal_load_curve)\n",
    "    \n",
    "    #3 - aggregate load curve, add losses and compute gen curve\n",
    "    projected_optimal_demand = optimal_load_curve['agg'] / (1 - losses)\n",
    "#     print(projected_optimal_demand.max())\n",
    "    \n",
    "    #4 - compute lowest generation cost\n",
    "    _,curr_gen_cost,curr_slot_pu = compute_gen_curve(projected_optimal_demand, n)\n",
    "    mean_pu_cost = curr_slot_pu.mean()\n",
    "#     curr_gen_cost = curr_slot_pu\n",
    "    # Store intermediate variables through iterations\n",
    "    iterative_load[n] = projected_optimal_demand\n",
    "    iterative_bill[n] = optimal_bill\n",
    "    iterative_gen_cost[n] = curr_slot_pu\n",
    "    iterative_gen_cost_total[n]=curr_gen_cost\n",
    "    \n",
    "#     print(curr_gen_cost.sum()/1e7,prev_gen_cost1.sum()/1e7)\n",
    "    #5 - Check if algorithm converges, else update the pricing signal (cost diff less than 0.5% of prev cost)\n",
    "    if similar_costs(curr_gen_cost.sum(), prev_gen_cost1.sum()): break  \n",
    "#     print(curr_gen_cost - prev_gen_cost1)\n",
    "#     print((curr_gen_cost.sum()-prev_gen_cost.sum())/1e7)\n",
    "    for t in lambda_t.keys():\n",
    "        for j in range(24):\n",
    "            if curr_slot_pu[j]<mean_pu_cost:\n",
    "                pricing_signal[n][t][j] += 1.2*lambda_t[t] * (curr_slot_pu[j]-mean_pu_cost)\n",
    "            else:\n",
    "                pricing_signal[n][t][j] += 0.8*lambda_t[t] * (curr_slot_pu[j]-mean_pu_cost)\n",
    "                \n",
    "            \n",
    "    prev_gen_cost = curr_slot_pu\n",
    "    prev_gen_cost1  = curr_gen_cost\n",
    "nn=n"
   ]
  },
  {
   "cell_type": "markdown",
   "id": "c49a393e",
   "metadata": {},
   "source": [
    "## Widgets"
   ]
  },
  {
   "cell_type": "code",
   "execution_count": 12,
   "id": "3d2f3829",
   "metadata": {},
   "outputs": [
    {
     "data": {
      "application/vnd.plotly.v1+json": {
       "config": {
        "plotlyServerURL": "https://plot.ly"
       },
       "data": [
        {
         "mode": "lines",
         "name": "Iteration: 0 load",
         "type": "scatter",
         "x": [
          1,
          2,
          3,
          4,
          5,
          6,
          7,
          8,
          9,
          10,
          11,
          12,
          13,
          14,
          15,
          16,
          17,
          18,
          19,
          20,
          21,
          22,
          23,
          24
         ],
         "xaxis": "x",
         "y": [
          5.882258526562202,
          6.245690229779485,
          6.119708054983384,
          5.559132940330985,
          5.633159431555638,
          5.559930747421549,
          6.324345616588965,
          6.472985953437152,
          6.291101739911044,
          6.361658889059872,
          6.87123096142643,
          7.018771323514131,
          6.432216215721792,
          6.472584902077722,
          5.718542862785722,
          5.7300327521821295,
          5.654850448380041,
          6.37820475172986,
          6.1168533059981245,
          6.868632426202587,
          5.496226545378964,
          6.146984459551839,
          6.108979424820534,
          6.03623442233413
         ],
         "yaxis": "y"
        },
        {
         "mode": "lines",
         "name": "Iteration: 0 gen cost",
         "type": "scatter",
         "x": [
          1,
          2,
          3,
          4,
          5,
          6,
          7,
          8,
          9,
          10,
          11,
          12,
          13,
          14,
          15,
          16,
          17,
          18,
          19,
          20,
          21,
          22,
          23,
          24
         ],
         "xaxis": "x2",
         "y": [
          2.4354840208116166,
          2.2636232068459177,
          2.2262514160641356,
          2.1746068542827133,
          2.198730274304644,
          2.196827859039115,
          2.193713203384711,
          2.3866214862254433,
          2.627060289768558,
          2.814105517677233,
          2.8146213338674504,
          2.914008447123713,
          3.0965247344226086,
          3.031584849890849,
          3.087814363110361,
          2.7498585798237123,
          2.551508246463739,
          2.250180435761881,
          2.3896379887103874,
          2.252772263859354,
          2.26341235995811,
          2.3113160104478836,
          2.387740432239445,
          2.3366181410851823
         ],
         "yaxis": "y2"
        },
        {
         "mode": "lines",
         "name": "Iteration: 0 load",
         "type": "scatter",
         "x": [
          1,
          2,
          3,
          4,
          5,
          6,
          7,
          8,
          9,
          10,
          11,
          12,
          13,
          14,
          15,
          16,
          17,
          18,
          19,
          20,
          21,
          22,
          23,
          24
         ],
         "xaxis": "x",
         "y": [
          5.882258526562202,
          6.245690229779485,
          6.119708054983384,
          5.559132940330985,
          5.633159431555638,
          5.559930747421549,
          6.324345616588965,
          6.472985953437152,
          6.291101739911044,
          6.361658889059872,
          6.87123096142643,
          7.018771323514131,
          6.432216215721792,
          6.472584902077722,
          5.718542862785722,
          5.7300327521821295,
          5.654850448380041,
          6.37820475172986,
          6.1168533059981245,
          6.868632426202587,
          5.496226545378964,
          6.146984459551839,
          6.108979424820534,
          6.03623442233413
         ],
         "yaxis": "y"
        },
        {
         "mode": "lines",
         "name": "Iteration: 0 gen cost",
         "type": "scatter",
         "x": [
          1,
          2,
          3,
          4,
          5,
          6,
          7,
          8,
          9,
          10,
          11,
          12,
          13,
          14,
          15,
          16,
          17,
          18,
          19,
          20,
          21,
          22,
          23,
          24
         ],
         "xaxis": "x2",
         "y": [
          2.4354840208116166,
          2.2636232068459177,
          2.2262514160641356,
          2.1746068542827133,
          2.198730274304644,
          2.196827859039115,
          2.193713203384711,
          2.3866214862254433,
          2.627060289768558,
          2.814105517677233,
          2.8146213338674504,
          2.914008447123713,
          3.0965247344226086,
          3.031584849890849,
          3.087814363110361,
          2.7498585798237123,
          2.551508246463739,
          2.250180435761881,
          2.3896379887103874,
          2.252772263859354,
          2.26341235995811,
          2.3113160104478836,
          2.387740432239445,
          2.3366181410851823
         ],
         "yaxis": "y2"
        },
        {
         "mode": "lines",
         "name": "Flexibility",
         "type": "scatter",
         "x": [
          1,
          2,
          3,
          4,
          5,
          6,
          7,
          8,
          9,
          10,
          11,
          12,
          13,
          14,
          15,
          16,
          17,
          18,
          19,
          20,
          21,
          22,
          23,
          24
         ],
         "xaxis": "x3",
         "y": [
          0,
          0,
          0,
          0,
          0,
          0,
          0,
          0,
          0,
          0,
          0,
          0,
          0,
          0,
          0,
          0,
          0,
          0,
          0,
          0,
          0,
          0,
          0,
          0
         ],
         "yaxis": "y3"
        },
        {
         "name": "Profit",
         "type": "scatter",
         "x": [
          1
         ],
         "xaxis": "x4",
         "y": [
          103.9014382415449
         ],
         "yaxis": "y4"
        },
        {
         "name": "Residential TOD Tariff",
         "type": "scatter",
         "x": [
          1,
          2,
          3,
          4,
          5,
          6,
          7,
          8,
          9,
          10,
          11,
          12,
          13,
          14,
          15,
          16,
          17,
          18,
          19,
          20,
          21,
          22,
          23,
          24
         ],
         "xaxis": "x6",
         "y": [
          7,
          7,
          7,
          7,
          7,
          7,
          7,
          7,
          7,
          7,
          7,
          7,
          7,
          7,
          7,
          7,
          7,
          7,
          7,
          7,
          7,
          7,
          7,
          7
         ],
         "yaxis": "y6"
        },
        {
         "name": "Pricing signal for Residential DF consumers",
         "type": "scatter",
         "x": [
          1,
          2,
          3,
          4,
          5,
          6,
          7,
          8,
          9,
          10,
          11,
          12,
          13,
          14,
          15,
          16,
          17,
          18,
          19,
          20,
          21,
          22,
          23,
          24
         ],
         "xaxis": "x6",
         "y": [
          7,
          7,
          7,
          7,
          7,
          7,
          7,
          7,
          7,
          7,
          7,
          7,
          7,
          7,
          7,
          7,
          7,
          7,
          7,
          7,
          7,
          7,
          7,
          7
         ],
         "yaxis": "y6"
        },
        {
         "name": "Commercial TOD Tariff",
         "type": "scatter",
         "x": [
          1,
          2,
          3,
          4,
          5,
          6,
          7,
          8,
          9,
          10,
          11,
          12,
          13,
          14,
          15,
          16,
          17,
          18,
          19,
          20,
          21,
          22,
          23,
          24
         ],
         "xaxis": "x5",
         "y": [
          11.33,
          11.33,
          11.33,
          11.33,
          11.33,
          12.83,
          12.83,
          13.63,
          13.63,
          13.63,
          13.63,
          12.83,
          12.83,
          12.83,
          12.83,
          12.83,
          13.93,
          13.93,
          13.93,
          13.93,
          11.33,
          11.33,
          11.33,
          11.33
         ],
         "yaxis": "y5"
        },
        {
         "name": "Pricing signal for Commercial DF consumers",
         "type": "scatter",
         "x": [
          1,
          2,
          3,
          4,
          5,
          6,
          7,
          8,
          9,
          10,
          11,
          12,
          13,
          14,
          15,
          16,
          17,
          18,
          19,
          20,
          21,
          22,
          23,
          24
         ],
         "xaxis": "x5",
         "y": [
          11.33,
          11.33,
          11.33,
          11.33,
          11.33,
          12.83,
          12.83,
          13.63,
          13.63,
          13.63,
          13.63,
          12.83,
          12.83,
          12.83,
          12.83,
          12.83,
          13.93,
          13.93,
          13.93,
          13.93,
          11.33,
          11.33,
          11.33,
          11.33
         ],
         "yaxis": "y5"
        }
       ],
       "layout": {
        "annotations": [
         {
          "font": {
           "size": 16
          },
          "showarrow": false,
          "text": "Utility Load Curve (GW)",
          "x": 0.2,
          "xanchor": "center",
          "xref": "paper",
          "y": 1,
          "yanchor": "bottom",
          "yref": "paper"
         },
         {
          "font": {
           "size": 16
          },
          "showarrow": false,
          "text": "Generation PU cost (INR/kWH)",
          "x": 0.8,
          "xanchor": "center",
          "xref": "paper",
          "y": 1,
          "yanchor": "bottom",
          "yref": "paper"
         },
         {
          "font": {
           "size": 16
          },
          "showarrow": false,
          "text": "Up and down flexibility (MW)",
          "x": 0.2,
          "xanchor": "center",
          "xref": "paper",
          "y": 0.6,
          "yanchor": "bottom",
          "yref": "paper"
         },
         {
          "font": {
           "size": 16
          },
          "showarrow": false,
          "text": "Utility benefit",
          "x": 0.8,
          "xanchor": "center",
          "xref": "paper",
          "y": 0.6,
          "yanchor": "bottom",
          "yref": "paper"
         },
         {
          "font": {
           "size": 16
          },
          "showarrow": false,
          "text": "Commercial - Pricing signals",
          "x": 0.2,
          "xanchor": "center",
          "xref": "paper",
          "y": 0.19999999999999998,
          "yanchor": "bottom",
          "yref": "paper"
         },
         {
          "font": {
           "size": 16
          },
          "showarrow": false,
          "text": "Residential - Pricing signals",
          "x": 0.8,
          "xanchor": "center",
          "xref": "paper",
          "y": 0.19999999999999998,
          "yanchor": "bottom",
          "yref": "paper"
         }
        ],
        "boxgroupgap": 0,
        "height": 600,
        "margin": {
         "b": 0,
         "l": 3,
         "r": 2,
         "t": 100
        },
        "template": {
         "data": {
          "bar": [
           {
            "error_x": {
             "color": "#2a3f5f"
            },
            "error_y": {
             "color": "#2a3f5f"
            },
            "marker": {
             "line": {
              "color": "#E5ECF6",
              "width": 0.5
             },
             "pattern": {
              "fillmode": "overlay",
              "size": 10,
              "solidity": 0.2
             }
            },
            "type": "bar"
           }
          ],
          "barpolar": [
           {
            "marker": {
             "line": {
              "color": "#E5ECF6",
              "width": 0.5
             },
             "pattern": {
              "fillmode": "overlay",
              "size": 10,
              "solidity": 0.2
             }
            },
            "type": "barpolar"
           }
          ],
          "carpet": [
           {
            "aaxis": {
             "endlinecolor": "#2a3f5f",
             "gridcolor": "white",
             "linecolor": "white",
             "minorgridcolor": "white",
             "startlinecolor": "#2a3f5f"
            },
            "baxis": {
             "endlinecolor": "#2a3f5f",
             "gridcolor": "white",
             "linecolor": "white",
             "minorgridcolor": "white",
             "startlinecolor": "#2a3f5f"
            },
            "type": "carpet"
           }
          ],
          "choropleth": [
           {
            "colorbar": {
             "outlinewidth": 0,
             "ticks": ""
            },
            "type": "choropleth"
           }
          ],
          "contour": [
           {
            "colorbar": {
             "outlinewidth": 0,
             "ticks": ""
            },
            "colorscale": [
             [
              0,
              "#0d0887"
             ],
             [
              0.1111111111111111,
              "#46039f"
             ],
             [
              0.2222222222222222,
              "#7201a8"
             ],
             [
              0.3333333333333333,
              "#9c179e"
             ],
             [
              0.4444444444444444,
              "#bd3786"
             ],
             [
              0.5555555555555556,
              "#d8576b"
             ],
             [
              0.6666666666666666,
              "#ed7953"
             ],
             [
              0.7777777777777778,
              "#fb9f3a"
             ],
             [
              0.8888888888888888,
              "#fdca26"
             ],
             [
              1,
              "#f0f921"
             ]
            ],
            "type": "contour"
           }
          ],
          "contourcarpet": [
           {
            "colorbar": {
             "outlinewidth": 0,
             "ticks": ""
            },
            "type": "contourcarpet"
           }
          ],
          "heatmap": [
           {
            "colorbar": {
             "outlinewidth": 0,
             "ticks": ""
            },
            "colorscale": [
             [
              0,
              "#0d0887"
             ],
             [
              0.1111111111111111,
              "#46039f"
             ],
             [
              0.2222222222222222,
              "#7201a8"
             ],
             [
              0.3333333333333333,
              "#9c179e"
             ],
             [
              0.4444444444444444,
              "#bd3786"
             ],
             [
              0.5555555555555556,
              "#d8576b"
             ],
             [
              0.6666666666666666,
              "#ed7953"
             ],
             [
              0.7777777777777778,
              "#fb9f3a"
             ],
             [
              0.8888888888888888,
              "#fdca26"
             ],
             [
              1,
              "#f0f921"
             ]
            ],
            "type": "heatmap"
           }
          ],
          "heatmapgl": [
           {
            "colorbar": {
             "outlinewidth": 0,
             "ticks": ""
            },
            "colorscale": [
             [
              0,
              "#0d0887"
             ],
             [
              0.1111111111111111,
              "#46039f"
             ],
             [
              0.2222222222222222,
              "#7201a8"
             ],
             [
              0.3333333333333333,
              "#9c179e"
             ],
             [
              0.4444444444444444,
              "#bd3786"
             ],
             [
              0.5555555555555556,
              "#d8576b"
             ],
             [
              0.6666666666666666,
              "#ed7953"
             ],
             [
              0.7777777777777778,
              "#fb9f3a"
             ],
             [
              0.8888888888888888,
              "#fdca26"
             ],
             [
              1,
              "#f0f921"
             ]
            ],
            "type": "heatmapgl"
           }
          ],
          "histogram": [
           {
            "marker": {
             "pattern": {
              "fillmode": "overlay",
              "size": 10,
              "solidity": 0.2
             }
            },
            "type": "histogram"
           }
          ],
          "histogram2d": [
           {
            "colorbar": {
             "outlinewidth": 0,
             "ticks": ""
            },
            "colorscale": [
             [
              0,
              "#0d0887"
             ],
             [
              0.1111111111111111,
              "#46039f"
             ],
             [
              0.2222222222222222,
              "#7201a8"
             ],
             [
              0.3333333333333333,
              "#9c179e"
             ],
             [
              0.4444444444444444,
              "#bd3786"
             ],
             [
              0.5555555555555556,
              "#d8576b"
             ],
             [
              0.6666666666666666,
              "#ed7953"
             ],
             [
              0.7777777777777778,
              "#fb9f3a"
             ],
             [
              0.8888888888888888,
              "#fdca26"
             ],
             [
              1,
              "#f0f921"
             ]
            ],
            "type": "histogram2d"
           }
          ],
          "histogram2dcontour": [
           {
            "colorbar": {
             "outlinewidth": 0,
             "ticks": ""
            },
            "colorscale": [
             [
              0,
              "#0d0887"
             ],
             [
              0.1111111111111111,
              "#46039f"
             ],
             [
              0.2222222222222222,
              "#7201a8"
             ],
             [
              0.3333333333333333,
              "#9c179e"
             ],
             [
              0.4444444444444444,
              "#bd3786"
             ],
             [
              0.5555555555555556,
              "#d8576b"
             ],
             [
              0.6666666666666666,
              "#ed7953"
             ],
             [
              0.7777777777777778,
              "#fb9f3a"
             ],
             [
              0.8888888888888888,
              "#fdca26"
             ],
             [
              1,
              "#f0f921"
             ]
            ],
            "type": "histogram2dcontour"
           }
          ],
          "mesh3d": [
           {
            "colorbar": {
             "outlinewidth": 0,
             "ticks": ""
            },
            "type": "mesh3d"
           }
          ],
          "parcoords": [
           {
            "line": {
             "colorbar": {
              "outlinewidth": 0,
              "ticks": ""
             }
            },
            "type": "parcoords"
           }
          ],
          "pie": [
           {
            "automargin": true,
            "type": "pie"
           }
          ],
          "scatter": [
           {
            "fillpattern": {
             "fillmode": "overlay",
             "size": 10,
             "solidity": 0.2
            },
            "type": "scatter"
           }
          ],
          "scatter3d": [
           {
            "line": {
             "colorbar": {
              "outlinewidth": 0,
              "ticks": ""
             }
            },
            "marker": {
             "colorbar": {
              "outlinewidth": 0,
              "ticks": ""
             }
            },
            "type": "scatter3d"
           }
          ],
          "scattercarpet": [
           {
            "marker": {
             "colorbar": {
              "outlinewidth": 0,
              "ticks": ""
             }
            },
            "type": "scattercarpet"
           }
          ],
          "scattergeo": [
           {
            "marker": {
             "colorbar": {
              "outlinewidth": 0,
              "ticks": ""
             }
            },
            "type": "scattergeo"
           }
          ],
          "scattergl": [
           {
            "marker": {
             "colorbar": {
              "outlinewidth": 0,
              "ticks": ""
             }
            },
            "type": "scattergl"
           }
          ],
          "scattermapbox": [
           {
            "marker": {
             "colorbar": {
              "outlinewidth": 0,
              "ticks": ""
             }
            },
            "type": "scattermapbox"
           }
          ],
          "scatterpolar": [
           {
            "marker": {
             "colorbar": {
              "outlinewidth": 0,
              "ticks": ""
             }
            },
            "type": "scatterpolar"
           }
          ],
          "scatterpolargl": [
           {
            "marker": {
             "colorbar": {
              "outlinewidth": 0,
              "ticks": ""
             }
            },
            "type": "scatterpolargl"
           }
          ],
          "scatterternary": [
           {
            "marker": {
             "colorbar": {
              "outlinewidth": 0,
              "ticks": ""
             }
            },
            "type": "scatterternary"
           }
          ],
          "surface": [
           {
            "colorbar": {
             "outlinewidth": 0,
             "ticks": ""
            },
            "colorscale": [
             [
              0,
              "#0d0887"
             ],
             [
              0.1111111111111111,
              "#46039f"
             ],
             [
              0.2222222222222222,
              "#7201a8"
             ],
             [
              0.3333333333333333,
              "#9c179e"
             ],
             [
              0.4444444444444444,
              "#bd3786"
             ],
             [
              0.5555555555555556,
              "#d8576b"
             ],
             [
              0.6666666666666666,
              "#ed7953"
             ],
             [
              0.7777777777777778,
              "#fb9f3a"
             ],
             [
              0.8888888888888888,
              "#fdca26"
             ],
             [
              1,
              "#f0f921"
             ]
            ],
            "type": "surface"
           }
          ],
          "table": [
           {
            "cells": {
             "fill": {
              "color": "#EBF0F8"
             },
             "line": {
              "color": "white"
             }
            },
            "header": {
             "fill": {
              "color": "#C8D4E3"
             },
             "line": {
              "color": "white"
             }
            },
            "type": "table"
           }
          ]
         },
         "layout": {
          "annotationdefaults": {
           "arrowcolor": "#2a3f5f",
           "arrowhead": 0,
           "arrowwidth": 1
          },
          "autotypenumbers": "strict",
          "coloraxis": {
           "colorbar": {
            "outlinewidth": 0,
            "ticks": ""
           }
          },
          "colorscale": {
           "diverging": [
            [
             0,
             "#8e0152"
            ],
            [
             0.1,
             "#c51b7d"
            ],
            [
             0.2,
             "#de77ae"
            ],
            [
             0.3,
             "#f1b6da"
            ],
            [
             0.4,
             "#fde0ef"
            ],
            [
             0.5,
             "#f7f7f7"
            ],
            [
             0.6,
             "#e6f5d0"
            ],
            [
             0.7,
             "#b8e186"
            ],
            [
             0.8,
             "#7fbc41"
            ],
            [
             0.9,
             "#4d9221"
            ],
            [
             1,
             "#276419"
            ]
           ],
           "sequential": [
            [
             0,
             "#0d0887"
            ],
            [
             0.1111111111111111,
             "#46039f"
            ],
            [
             0.2222222222222222,
             "#7201a8"
            ],
            [
             0.3333333333333333,
             "#9c179e"
            ],
            [
             0.4444444444444444,
             "#bd3786"
            ],
            [
             0.5555555555555556,
             "#d8576b"
            ],
            [
             0.6666666666666666,
             "#ed7953"
            ],
            [
             0.7777777777777778,
             "#fb9f3a"
            ],
            [
             0.8888888888888888,
             "#fdca26"
            ],
            [
             1,
             "#f0f921"
            ]
           ],
           "sequentialminus": [
            [
             0,
             "#0d0887"
            ],
            [
             0.1111111111111111,
             "#46039f"
            ],
            [
             0.2222222222222222,
             "#7201a8"
            ],
            [
             0.3333333333333333,
             "#9c179e"
            ],
            [
             0.4444444444444444,
             "#bd3786"
            ],
            [
             0.5555555555555556,
             "#d8576b"
            ],
            [
             0.6666666666666666,
             "#ed7953"
            ],
            [
             0.7777777777777778,
             "#fb9f3a"
            ],
            [
             0.8888888888888888,
             "#fdca26"
            ],
            [
             1,
             "#f0f921"
            ]
           ]
          },
          "colorway": [
           "#636efa",
           "#EF553B",
           "#00cc96",
           "#ab63fa",
           "#FFA15A",
           "#19d3f3",
           "#FF6692",
           "#B6E880",
           "#FF97FF",
           "#FECB52"
          ],
          "font": {
           "color": "#2a3f5f"
          },
          "geo": {
           "bgcolor": "white",
           "lakecolor": "white",
           "landcolor": "#E5ECF6",
           "showlakes": true,
           "showland": true,
           "subunitcolor": "white"
          },
          "hoverlabel": {
           "align": "left"
          },
          "hovermode": "closest",
          "mapbox": {
           "style": "light"
          },
          "paper_bgcolor": "white",
          "plot_bgcolor": "#E5ECF6",
          "polar": {
           "angularaxis": {
            "gridcolor": "white",
            "linecolor": "white",
            "ticks": ""
           },
           "bgcolor": "#E5ECF6",
           "radialaxis": {
            "gridcolor": "white",
            "linecolor": "white",
            "ticks": ""
           }
          },
          "scene": {
           "xaxis": {
            "backgroundcolor": "#E5ECF6",
            "gridcolor": "white",
            "gridwidth": 2,
            "linecolor": "white",
            "showbackground": true,
            "ticks": "",
            "zerolinecolor": "white"
           },
           "yaxis": {
            "backgroundcolor": "#E5ECF6",
            "gridcolor": "white",
            "gridwidth": 2,
            "linecolor": "white",
            "showbackground": true,
            "ticks": "",
            "zerolinecolor": "white"
           },
           "zaxis": {
            "backgroundcolor": "#E5ECF6",
            "gridcolor": "white",
            "gridwidth": 2,
            "linecolor": "white",
            "showbackground": true,
            "ticks": "",
            "zerolinecolor": "white"
           }
          },
          "shapedefaults": {
           "line": {
            "color": "#2a3f5f"
           }
          },
          "ternary": {
           "aaxis": {
            "gridcolor": "white",
            "linecolor": "white",
            "ticks": ""
           },
           "baxis": {
            "gridcolor": "white",
            "linecolor": "white",
            "ticks": ""
           },
           "bgcolor": "#E5ECF6",
           "caxis": {
            "gridcolor": "white",
            "linecolor": "white",
            "ticks": ""
           }
          },
          "title": {
           "x": 0.05
          },
          "xaxis": {
           "automargin": true,
           "gridcolor": "white",
           "linecolor": "white",
           "ticks": "",
           "title": {
            "standoff": 15
           },
           "zerolinecolor": "white",
           "zerolinewidth": 2
          },
          "yaxis": {
           "automargin": true,
           "gridcolor": "white",
           "linecolor": "white",
           "ticks": "",
           "title": {
            "standoff": 15
           },
           "zerolinecolor": "white",
           "zerolinewidth": 2
          }
         }
        },
        "title": {
         "text": "Demand flexibility analysis - Iterations: 0"
        },
        "width": 1100,
        "xaxis": {
         "anchor": "y",
         "domain": [
          0,
          0.4
         ],
         "title": {
          "text": "Time (hours)"
         }
        },
        "xaxis2": {
         "anchor": "y2",
         "domain": [
          0.6000000000000001,
          1
         ],
         "title": {
          "text": "Time (hours)"
         }
        },
        "xaxis3": {
         "anchor": "y3",
         "domain": [
          0,
          0.4
         ],
         "title": {
          "text": "Time (hours)"
         }
        },
        "xaxis4": {
         "anchor": "y4",
         "domain": [
          0.6000000000000001,
          1
         ],
         "title": {
          "text": "Time (hours)"
         }
        },
        "xaxis5": {
         "anchor": "y5",
         "domain": [
          0,
          0.4
         ],
         "title": {
          "text": "Time (hours)"
         }
        },
        "xaxis6": {
         "anchor": "y6",
         "domain": [
          0.6000000000000001,
          1
         ],
         "title": {
          "text": "Time (hours)"
         }
        },
        "yaxis": {
         "anchor": "x",
         "domain": [
          0.8,
          1
         ],
         "title": {
          "text": "Load (GW)"
         }
        },
        "yaxis2": {
         "anchor": "x2",
         "domain": [
          0.8,
          1
         ],
         "title": {
          "text": "Cost (INR/kWH)"
         }
        },
        "yaxis3": {
         "anchor": "x3",
         "domain": [
          0.4,
          0.6
         ],
         "title": {
          "text": "Flexibility (GW)"
         }
        },
        "yaxis4": {
         "anchor": "x4",
         "domain": [
          0.4,
          0.6
         ],
         "title": {
          "text": "Crore INR"
         }
        },
        "yaxis5": {
         "anchor": "x5",
         "domain": [
          0,
          0.19999999999999998
         ],
         "title": {
          "text": "INR/kWh"
         }
        },
        "yaxis6": {
         "anchor": "x6",
         "domain": [
          0,
          0.19999999999999998
         ],
         "title": {
          "text": "INR/kWh"
         }
        }
       }
      },
      "text/html": [
       "<div>                            <div id=\"c7194154-b7c3-4430-a7ca-b597af70481b\" class=\"plotly-graph-div\" style=\"height:600px; width:1100px;\"></div>            <script type=\"text/javascript\">                require([\"plotly\"], function(Plotly) {                    window.PLOTLYENV=window.PLOTLYENV || {};                                    if (document.getElementById(\"c7194154-b7c3-4430-a7ca-b597af70481b\")) {                    Plotly.newPlot(                        \"c7194154-b7c3-4430-a7ca-b597af70481b\",                        [{\"mode\":\"lines\",\"name\":\"Iteration: 0 load\",\"x\":[1.0,2.0,3.0,4.0,5.0,6.0,7.0,8.0,9.0,10.0,11.0,12.0,13.0,14.0,15.0,16.0,17.0,18.0,19.0,20.0,21.0,22.0,23.0,24.0],\"y\":[5.882258526562202,6.245690229779485,6.119708054983384,5.559132940330985,5.633159431555638,5.559930747421549,6.324345616588965,6.472985953437152,6.291101739911044,6.361658889059872,6.87123096142643,7.018771323514131,6.432216215721792,6.472584902077722,5.718542862785722,5.7300327521821295,5.654850448380041,6.37820475172986,6.1168533059981245,6.868632426202587,5.496226545378964,6.146984459551839,6.108979424820534,6.03623442233413],\"type\":\"scatter\",\"xaxis\":\"x\",\"yaxis\":\"y\"},{\"mode\":\"lines\",\"name\":\"Iteration: 0 gen cost\",\"x\":[1.0,2.0,3.0,4.0,5.0,6.0,7.0,8.0,9.0,10.0,11.0,12.0,13.0,14.0,15.0,16.0,17.0,18.0,19.0,20.0,21.0,22.0,23.0,24.0],\"y\":[2.4354840208116166,2.2636232068459177,2.2262514160641356,2.1746068542827133,2.198730274304644,2.196827859039115,2.193713203384711,2.3866214862254433,2.627060289768558,2.814105517677233,2.8146213338674504,2.914008447123713,3.0965247344226086,3.031584849890849,3.087814363110361,2.7498585798237123,2.551508246463739,2.250180435761881,2.3896379887103874,2.252772263859354,2.26341235995811,2.3113160104478836,2.387740432239445,2.3366181410851823],\"type\":\"scatter\",\"xaxis\":\"x2\",\"yaxis\":\"y2\"},{\"mode\":\"lines\",\"name\":\"Iteration: 0 load\",\"x\":[1.0,2.0,3.0,4.0,5.0,6.0,7.0,8.0,9.0,10.0,11.0,12.0,13.0,14.0,15.0,16.0,17.0,18.0,19.0,20.0,21.0,22.0,23.0,24.0],\"y\":[5.882258526562202,6.245690229779485,6.119708054983384,5.559132940330985,5.633159431555638,5.559930747421549,6.324345616588965,6.472985953437152,6.291101739911044,6.361658889059872,6.87123096142643,7.018771323514131,6.432216215721792,6.472584902077722,5.718542862785722,5.7300327521821295,5.654850448380041,6.37820475172986,6.1168533059981245,6.868632426202587,5.496226545378964,6.146984459551839,6.108979424820534,6.03623442233413],\"type\":\"scatter\",\"xaxis\":\"x\",\"yaxis\":\"y\"},{\"mode\":\"lines\",\"name\":\"Iteration: 0 gen cost\",\"x\":[1.0,2.0,3.0,4.0,5.0,6.0,7.0,8.0,9.0,10.0,11.0,12.0,13.0,14.0,15.0,16.0,17.0,18.0,19.0,20.0,21.0,22.0,23.0,24.0],\"y\":[2.4354840208116166,2.2636232068459177,2.2262514160641356,2.1746068542827133,2.198730274304644,2.196827859039115,2.193713203384711,2.3866214862254433,2.627060289768558,2.814105517677233,2.8146213338674504,2.914008447123713,3.0965247344226086,3.031584849890849,3.087814363110361,2.7498585798237123,2.551508246463739,2.250180435761881,2.3896379887103874,2.252772263859354,2.26341235995811,2.3113160104478836,2.387740432239445,2.3366181410851823],\"type\":\"scatter\",\"xaxis\":\"x2\",\"yaxis\":\"y2\"},{\"mode\":\"lines\",\"name\":\"Flexibility\",\"x\":[1.0,2.0,3.0,4.0,5.0,6.0,7.0,8.0,9.0,10.0,11.0,12.0,13.0,14.0,15.0,16.0,17.0,18.0,19.0,20.0,21.0,22.0,23.0,24.0],\"y\":[0.0,0.0,0.0,0.0,0.0,0.0,0.0,0.0,0.0,0.0,0.0,0.0,0.0,0.0,0.0,0.0,0.0,0.0,0.0,0.0,0.0,0.0,0.0,0.0],\"type\":\"scatter\",\"xaxis\":\"x3\",\"yaxis\":\"y3\"},{\"name\":\"Profit\",\"x\":[1.0],\"y\":[103.9014382415449],\"type\":\"scatter\",\"xaxis\":\"x4\",\"yaxis\":\"y4\"},{\"name\":\"Residential TOD Tariff\",\"x\":[1.0,2.0,3.0,4.0,5.0,6.0,7.0,8.0,9.0,10.0,11.0,12.0,13.0,14.0,15.0,16.0,17.0,18.0,19.0,20.0,21.0,22.0,23.0,24.0],\"y\":[7,7,7,7,7,7,7,7,7,7,7,7,7,7,7,7,7,7,7,7,7,7,7,7],\"type\":\"scatter\",\"xaxis\":\"x6\",\"yaxis\":\"y6\"},{\"name\":\"Pricing signal for Residential DF consumers\",\"x\":[1.0,2.0,3.0,4.0,5.0,6.0,7.0,8.0,9.0,10.0,11.0,12.0,13.0,14.0,15.0,16.0,17.0,18.0,19.0,20.0,21.0,22.0,23.0,24.0],\"y\":[7,7,7,7,7,7,7,7,7,7,7,7,7,7,7,7,7,7,7,7,7,7,7,7],\"type\":\"scatter\",\"xaxis\":\"x6\",\"yaxis\":\"y6\"},{\"name\":\"Commercial TOD Tariff\",\"x\":[1.0,2.0,3.0,4.0,5.0,6.0,7.0,8.0,9.0,10.0,11.0,12.0,13.0,14.0,15.0,16.0,17.0,18.0,19.0,20.0,21.0,22.0,23.0,24.0],\"y\":[11.33,11.33,11.33,11.33,11.33,12.83,12.83,13.63,13.63,13.63,13.63,12.83,12.83,12.83,12.83,12.83,13.93,13.93,13.93,13.93,11.33,11.33,11.33,11.33],\"type\":\"scatter\",\"xaxis\":\"x5\",\"yaxis\":\"y5\"},{\"name\":\"Pricing signal for Commercial DF consumers\",\"x\":[1.0,2.0,3.0,4.0,5.0,6.0,7.0,8.0,9.0,10.0,11.0,12.0,13.0,14.0,15.0,16.0,17.0,18.0,19.0,20.0,21.0,22.0,23.0,24.0],\"y\":[11.33,11.33,11.33,11.33,11.33,12.83,12.83,13.63,13.63,13.63,13.63,12.83,12.83,12.83,12.83,12.83,13.93,13.93,13.93,13.93,11.33,11.33,11.33,11.33],\"type\":\"scatter\",\"xaxis\":\"x5\",\"yaxis\":\"y5\"}],                        {\"template\":{\"data\":{\"histogram2dcontour\":[{\"type\":\"histogram2dcontour\",\"colorbar\":{\"outlinewidth\":0,\"ticks\":\"\"},\"colorscale\":[[0.0,\"#0d0887\"],[0.1111111111111111,\"#46039f\"],[0.2222222222222222,\"#7201a8\"],[0.3333333333333333,\"#9c179e\"],[0.4444444444444444,\"#bd3786\"],[0.5555555555555556,\"#d8576b\"],[0.6666666666666666,\"#ed7953\"],[0.7777777777777778,\"#fb9f3a\"],[0.8888888888888888,\"#fdca26\"],[1.0,\"#f0f921\"]]}],\"choropleth\":[{\"type\":\"choropleth\",\"colorbar\":{\"outlinewidth\":0,\"ticks\":\"\"}}],\"histogram2d\":[{\"type\":\"histogram2d\",\"colorbar\":{\"outlinewidth\":0,\"ticks\":\"\"},\"colorscale\":[[0.0,\"#0d0887\"],[0.1111111111111111,\"#46039f\"],[0.2222222222222222,\"#7201a8\"],[0.3333333333333333,\"#9c179e\"],[0.4444444444444444,\"#bd3786\"],[0.5555555555555556,\"#d8576b\"],[0.6666666666666666,\"#ed7953\"],[0.7777777777777778,\"#fb9f3a\"],[0.8888888888888888,\"#fdca26\"],[1.0,\"#f0f921\"]]}],\"heatmap\":[{\"type\":\"heatmap\",\"colorbar\":{\"outlinewidth\":0,\"ticks\":\"\"},\"colorscale\":[[0.0,\"#0d0887\"],[0.1111111111111111,\"#46039f\"],[0.2222222222222222,\"#7201a8\"],[0.3333333333333333,\"#9c179e\"],[0.4444444444444444,\"#bd3786\"],[0.5555555555555556,\"#d8576b\"],[0.6666666666666666,\"#ed7953\"],[0.7777777777777778,\"#fb9f3a\"],[0.8888888888888888,\"#fdca26\"],[1.0,\"#f0f921\"]]}],\"heatmapgl\":[{\"type\":\"heatmapgl\",\"colorbar\":{\"outlinewidth\":0,\"ticks\":\"\"},\"colorscale\":[[0.0,\"#0d0887\"],[0.1111111111111111,\"#46039f\"],[0.2222222222222222,\"#7201a8\"],[0.3333333333333333,\"#9c179e\"],[0.4444444444444444,\"#bd3786\"],[0.5555555555555556,\"#d8576b\"],[0.6666666666666666,\"#ed7953\"],[0.7777777777777778,\"#fb9f3a\"],[0.8888888888888888,\"#fdca26\"],[1.0,\"#f0f921\"]]}],\"contourcarpet\":[{\"type\":\"contourcarpet\",\"colorbar\":{\"outlinewidth\":0,\"ticks\":\"\"}}],\"contour\":[{\"type\":\"contour\",\"colorbar\":{\"outlinewidth\":0,\"ticks\":\"\"},\"colorscale\":[[0.0,\"#0d0887\"],[0.1111111111111111,\"#46039f\"],[0.2222222222222222,\"#7201a8\"],[0.3333333333333333,\"#9c179e\"],[0.4444444444444444,\"#bd3786\"],[0.5555555555555556,\"#d8576b\"],[0.6666666666666666,\"#ed7953\"],[0.7777777777777778,\"#fb9f3a\"],[0.8888888888888888,\"#fdca26\"],[1.0,\"#f0f921\"]]}],\"surface\":[{\"type\":\"surface\",\"colorbar\":{\"outlinewidth\":0,\"ticks\":\"\"},\"colorscale\":[[0.0,\"#0d0887\"],[0.1111111111111111,\"#46039f\"],[0.2222222222222222,\"#7201a8\"],[0.3333333333333333,\"#9c179e\"],[0.4444444444444444,\"#bd3786\"],[0.5555555555555556,\"#d8576b\"],[0.6666666666666666,\"#ed7953\"],[0.7777777777777778,\"#fb9f3a\"],[0.8888888888888888,\"#fdca26\"],[1.0,\"#f0f921\"]]}],\"mesh3d\":[{\"type\":\"mesh3d\",\"colorbar\":{\"outlinewidth\":0,\"ticks\":\"\"}}],\"scatter\":[{\"fillpattern\":{\"fillmode\":\"overlay\",\"size\":10,\"solidity\":0.2},\"type\":\"scatter\"}],\"parcoords\":[{\"type\":\"parcoords\",\"line\":{\"colorbar\":{\"outlinewidth\":0,\"ticks\":\"\"}}}],\"scatterpolargl\":[{\"type\":\"scatterpolargl\",\"marker\":{\"colorbar\":{\"outlinewidth\":0,\"ticks\":\"\"}}}],\"bar\":[{\"error_x\":{\"color\":\"#2a3f5f\"},\"error_y\":{\"color\":\"#2a3f5f\"},\"marker\":{\"line\":{\"color\":\"#E5ECF6\",\"width\":0.5},\"pattern\":{\"fillmode\":\"overlay\",\"size\":10,\"solidity\":0.2}},\"type\":\"bar\"}],\"scattergeo\":[{\"type\":\"scattergeo\",\"marker\":{\"colorbar\":{\"outlinewidth\":0,\"ticks\":\"\"}}}],\"scatterpolar\":[{\"type\":\"scatterpolar\",\"marker\":{\"colorbar\":{\"outlinewidth\":0,\"ticks\":\"\"}}}],\"histogram\":[{\"marker\":{\"pattern\":{\"fillmode\":\"overlay\",\"size\":10,\"solidity\":0.2}},\"type\":\"histogram\"}],\"scattergl\":[{\"type\":\"scattergl\",\"marker\":{\"colorbar\":{\"outlinewidth\":0,\"ticks\":\"\"}}}],\"scatter3d\":[{\"type\":\"scatter3d\",\"line\":{\"colorbar\":{\"outlinewidth\":0,\"ticks\":\"\"}},\"marker\":{\"colorbar\":{\"outlinewidth\":0,\"ticks\":\"\"}}}],\"scattermapbox\":[{\"type\":\"scattermapbox\",\"marker\":{\"colorbar\":{\"outlinewidth\":0,\"ticks\":\"\"}}}],\"scatterternary\":[{\"type\":\"scatterternary\",\"marker\":{\"colorbar\":{\"outlinewidth\":0,\"ticks\":\"\"}}}],\"scattercarpet\":[{\"type\":\"scattercarpet\",\"marker\":{\"colorbar\":{\"outlinewidth\":0,\"ticks\":\"\"}}}],\"carpet\":[{\"aaxis\":{\"endlinecolor\":\"#2a3f5f\",\"gridcolor\":\"white\",\"linecolor\":\"white\",\"minorgridcolor\":\"white\",\"startlinecolor\":\"#2a3f5f\"},\"baxis\":{\"endlinecolor\":\"#2a3f5f\",\"gridcolor\":\"white\",\"linecolor\":\"white\",\"minorgridcolor\":\"white\",\"startlinecolor\":\"#2a3f5f\"},\"type\":\"carpet\"}],\"table\":[{\"cells\":{\"fill\":{\"color\":\"#EBF0F8\"},\"line\":{\"color\":\"white\"}},\"header\":{\"fill\":{\"color\":\"#C8D4E3\"},\"line\":{\"color\":\"white\"}},\"type\":\"table\"}],\"barpolar\":[{\"marker\":{\"line\":{\"color\":\"#E5ECF6\",\"width\":0.5},\"pattern\":{\"fillmode\":\"overlay\",\"size\":10,\"solidity\":0.2}},\"type\":\"barpolar\"}],\"pie\":[{\"automargin\":true,\"type\":\"pie\"}]},\"layout\":{\"autotypenumbers\":\"strict\",\"colorway\":[\"#636efa\",\"#EF553B\",\"#00cc96\",\"#ab63fa\",\"#FFA15A\",\"#19d3f3\",\"#FF6692\",\"#B6E880\",\"#FF97FF\",\"#FECB52\"],\"font\":{\"color\":\"#2a3f5f\"},\"hovermode\":\"closest\",\"hoverlabel\":{\"align\":\"left\"},\"paper_bgcolor\":\"white\",\"plot_bgcolor\":\"#E5ECF6\",\"polar\":{\"bgcolor\":\"#E5ECF6\",\"angularaxis\":{\"gridcolor\":\"white\",\"linecolor\":\"white\",\"ticks\":\"\"},\"radialaxis\":{\"gridcolor\":\"white\",\"linecolor\":\"white\",\"ticks\":\"\"}},\"ternary\":{\"bgcolor\":\"#E5ECF6\",\"aaxis\":{\"gridcolor\":\"white\",\"linecolor\":\"white\",\"ticks\":\"\"},\"baxis\":{\"gridcolor\":\"white\",\"linecolor\":\"white\",\"ticks\":\"\"},\"caxis\":{\"gridcolor\":\"white\",\"linecolor\":\"white\",\"ticks\":\"\"}},\"coloraxis\":{\"colorbar\":{\"outlinewidth\":0,\"ticks\":\"\"}},\"colorscale\":{\"sequential\":[[0.0,\"#0d0887\"],[0.1111111111111111,\"#46039f\"],[0.2222222222222222,\"#7201a8\"],[0.3333333333333333,\"#9c179e\"],[0.4444444444444444,\"#bd3786\"],[0.5555555555555556,\"#d8576b\"],[0.6666666666666666,\"#ed7953\"],[0.7777777777777778,\"#fb9f3a\"],[0.8888888888888888,\"#fdca26\"],[1.0,\"#f0f921\"]],\"sequentialminus\":[[0.0,\"#0d0887\"],[0.1111111111111111,\"#46039f\"],[0.2222222222222222,\"#7201a8\"],[0.3333333333333333,\"#9c179e\"],[0.4444444444444444,\"#bd3786\"],[0.5555555555555556,\"#d8576b\"],[0.6666666666666666,\"#ed7953\"],[0.7777777777777778,\"#fb9f3a\"],[0.8888888888888888,\"#fdca26\"],[1.0,\"#f0f921\"]],\"diverging\":[[0,\"#8e0152\"],[0.1,\"#c51b7d\"],[0.2,\"#de77ae\"],[0.3,\"#f1b6da\"],[0.4,\"#fde0ef\"],[0.5,\"#f7f7f7\"],[0.6,\"#e6f5d0\"],[0.7,\"#b8e186\"],[0.8,\"#7fbc41\"],[0.9,\"#4d9221\"],[1,\"#276419\"]]},\"xaxis\":{\"gridcolor\":\"white\",\"linecolor\":\"white\",\"ticks\":\"\",\"title\":{\"standoff\":15},\"zerolinecolor\":\"white\",\"automargin\":true,\"zerolinewidth\":2},\"yaxis\":{\"gridcolor\":\"white\",\"linecolor\":\"white\",\"ticks\":\"\",\"title\":{\"standoff\":15},\"zerolinecolor\":\"white\",\"automargin\":true,\"zerolinewidth\":2},\"scene\":{\"xaxis\":{\"backgroundcolor\":\"#E5ECF6\",\"gridcolor\":\"white\",\"linecolor\":\"white\",\"showbackground\":true,\"ticks\":\"\",\"zerolinecolor\":\"white\",\"gridwidth\":2},\"yaxis\":{\"backgroundcolor\":\"#E5ECF6\",\"gridcolor\":\"white\",\"linecolor\":\"white\",\"showbackground\":true,\"ticks\":\"\",\"zerolinecolor\":\"white\",\"gridwidth\":2},\"zaxis\":{\"backgroundcolor\":\"#E5ECF6\",\"gridcolor\":\"white\",\"linecolor\":\"white\",\"showbackground\":true,\"ticks\":\"\",\"zerolinecolor\":\"white\",\"gridwidth\":2}},\"shapedefaults\":{\"line\":{\"color\":\"#2a3f5f\"}},\"annotationdefaults\":{\"arrowcolor\":\"#2a3f5f\",\"arrowhead\":0,\"arrowwidth\":1},\"geo\":{\"bgcolor\":\"white\",\"landcolor\":\"#E5ECF6\",\"subunitcolor\":\"white\",\"showland\":true,\"showlakes\":true,\"lakecolor\":\"white\"},\"title\":{\"x\":0.05},\"mapbox\":{\"style\":\"light\"}}},\"xaxis\":{\"anchor\":\"y\",\"domain\":[0.0,0.4],\"title\":{\"text\":\"Time (hours)\"}},\"yaxis\":{\"anchor\":\"x\",\"domain\":[0.8,1.0],\"title\":{\"text\":\"Load (GW)\"}},\"xaxis2\":{\"anchor\":\"y2\",\"domain\":[0.6000000000000001,1.0],\"title\":{\"text\":\"Time (hours)\"}},\"yaxis2\":{\"anchor\":\"x2\",\"domain\":[0.8,1.0],\"title\":{\"text\":\"Cost (INR\\u002fkWH)\"}},\"xaxis3\":{\"anchor\":\"y3\",\"domain\":[0.0,0.4],\"title\":{\"text\":\"Time (hours)\"}},\"yaxis3\":{\"anchor\":\"x3\",\"domain\":[0.4,0.6],\"title\":{\"text\":\"Flexibility (GW)\"}},\"xaxis4\":{\"anchor\":\"y4\",\"domain\":[0.6000000000000001,1.0],\"title\":{\"text\":\"Time (hours)\"}},\"yaxis4\":{\"anchor\":\"x4\",\"domain\":[0.4,0.6],\"title\":{\"text\":\"Crore INR\"}},\"xaxis5\":{\"anchor\":\"y5\",\"domain\":[0.0,0.4],\"title\":{\"text\":\"Time (hours)\"}},\"yaxis5\":{\"anchor\":\"x5\",\"domain\":[0.0,0.19999999999999998],\"title\":{\"text\":\"INR\\u002fkWh\"}},\"xaxis6\":{\"anchor\":\"y6\",\"domain\":[0.6000000000000001,1.0],\"title\":{\"text\":\"Time (hours)\"}},\"yaxis6\":{\"anchor\":\"x6\",\"domain\":[0.0,0.19999999999999998],\"title\":{\"text\":\"INR\\u002fkWh\"}},\"annotations\":[{\"font\":{\"size\":16},\"showarrow\":false,\"text\":\"Utility Load Curve (GW)\",\"x\":0.2,\"xanchor\":\"center\",\"xref\":\"paper\",\"y\":1.0,\"yanchor\":\"bottom\",\"yref\":\"paper\"},{\"font\":{\"size\":16},\"showarrow\":false,\"text\":\"Generation PU cost (INR\\u002fkWH)\",\"x\":0.8,\"xanchor\":\"center\",\"xref\":\"paper\",\"y\":1.0,\"yanchor\":\"bottom\",\"yref\":\"paper\"},{\"font\":{\"size\":16},\"showarrow\":false,\"text\":\"Up and down flexibility (MW)\",\"x\":0.2,\"xanchor\":\"center\",\"xref\":\"paper\",\"y\":0.6,\"yanchor\":\"bottom\",\"yref\":\"paper\"},{\"font\":{\"size\":16},\"showarrow\":false,\"text\":\"Utility benefit\",\"x\":0.8,\"xanchor\":\"center\",\"xref\":\"paper\",\"y\":0.6,\"yanchor\":\"bottom\",\"yref\":\"paper\"},{\"font\":{\"size\":16},\"showarrow\":false,\"text\":\"Commercial - Pricing signals\",\"x\":0.2,\"xanchor\":\"center\",\"xref\":\"paper\",\"y\":0.19999999999999998,\"yanchor\":\"bottom\",\"yref\":\"paper\"},{\"font\":{\"size\":16},\"showarrow\":false,\"text\":\"Residential - Pricing signals\",\"x\":0.8,\"xanchor\":\"center\",\"xref\":\"paper\",\"y\":0.19999999999999998,\"yanchor\":\"bottom\",\"yref\":\"paper\"}],\"margin\":{\"l\":3,\"r\":2,\"b\":0,\"t\":100},\"title\":{\"text\":\"Demand flexibility analysis - Iterations: 0\"},\"height\":600,\"width\":1100,\"boxgroupgap\":0.0},                        {\"responsive\": true}                    ).then(function(){\n",
       "                            \n",
       "var gd = document.getElementById('c7194154-b7c3-4430-a7ca-b597af70481b');\n",
       "var x = new MutationObserver(function (mutations, observer) {{\n",
       "        var display = window.getComputedStyle(gd).display;\n",
       "        if (!display || display === 'none') {{\n",
       "            console.log([gd, 'removed!']);\n",
       "            Plotly.purge(gd);\n",
       "            observer.disconnect();\n",
       "        }}\n",
       "}});\n",
       "\n",
       "// Listen for the removal of the full notebook cells\n",
       "var notebookContainer = gd.closest('#notebook-container');\n",
       "if (notebookContainer) {{\n",
       "    x.observe(notebookContainer, {childList: true});\n",
       "}}\n",
       "\n",
       "// Listen for the clearing of the current output cell\n",
       "var outputEl = gd.closest('.output');\n",
       "if (outputEl) {{\n",
       "    x.observe(outputEl, {childList: true});\n",
       "}}\n",
       "\n",
       "                        })                };                });            </script>        </div>"
      ]
     },
     "metadata": {},
     "output_type": "display_data"
    },
    {
     "data": {
      "application/vnd.jupyter.widget-view+json": {
       "model_id": "b5477a7b7fa24575bae7b995d2630315",
       "version_major": 2,
       "version_minor": 0
      },
      "text/plain": [
       "interactive(children=(IntSlider(value=0, description='Iterations', max=1), Output()), _dom_classes=('widget-in…"
      ]
     },
     "metadata": {},
     "output_type": "display_data"
    }
   ],
   "source": [
    "@interact(n=widgets.IntSlider(min=0, max=nn, step=1, value=0, description='Iterations'))\n",
    "def update_plot(n):\n",
    "    # Your existing code for generating the plot with the given value of n\n",
    "    fig = sp.make_subplots(rows=3, cols=2, subplot_titles=('Utility Load Curve (GW)', 'Generation PU cost (INR/kWH)', 'Up and down flexibility (MW)','Utility benefit', 'Commercial - Pricing signals', 'Residential - Pricing signals'),horizontal_spacing=0.2, vertical_spacing=0.2)\n",
    "\n",
    "    x_values = np.linspace(1, 24, 24)\n",
    "    x1 = x_values\n",
    "\n",
    "    flexibility = iterative_load[n] - iterative_load[0]\n",
    "\n",
    "    gen_df = pd.DataFrame(pd.DataFrame(iterative_gen_cost_total).sum(axis=0))\n",
    "    bill_df = pd.DataFrame(iterative_bill, index=[0])\n",
    "\n",
    "    profit_df = bill_df.T - gen_df\n",
    "    \n",
    "    # Plot the data\n",
    "    fig.add_trace(go.Scatter(x=x1, y=iterative_load[0] / 1000, mode='lines', name=f'Iteration: {0} load'), row=1, col=1)\n",
    "    fig.add_trace(go.Scatter(x=x1, y=iterative_gen_cost[0], mode='lines', name=f'Iteration: {0} gen cost'), row=1, col=2)\n",
    "    fig.add_trace(go.Scatter(x=x1, y=iterative_load[n] / 1000, mode='lines', name=f'Iteration: {n} load'), row=1, col=1)\n",
    "    fig.add_trace(go.Scatter(x=x1, y=iterative_gen_cost[n], mode='lines', name=f'Iteration: {n} gen cost'), row=1, col=2)\n",
    "\n",
    "    fig.add_trace(go.Scatter(x=x1, y=flexibility / 1000, mode='lines', name='Flexibility'), row=2, col=1)\n",
    "    fig.add_trace(go.Scatter(x=x1[0:n+1], y=profit_df.iloc[0:n+1, 0] / 1e7, name='Profit'), row=2, col=2)\n",
    "    \n",
    "    fig.add_trace(go.Scatter(x=x1, y=pricing_signal[0]['residential'], name='Residential TOD Tariff'), row=3, col=2)\n",
    "    fig.add_trace(go.Scatter(x=x1, y=pricing_signal[n]['residential'], name='Pricing signal for Residential DF consumers'), row=3, col=2)\n",
    "    \n",
    "    fig.add_trace(go.Scatter(x=x1, y=pricing_signal[0]['commercial'], name='Commercial TOD Tariff'), row=3, col=1)\n",
    "    fig.add_trace(go.Scatter(x=x1, y=pricing_signal[n]['commercial'], name='Pricing signal for Commercial DF consumers'), row=3, col=1)\n",
    "\n",
    "    fig.update_layout(\n",
    "        height=600,\n",
    "        width=1100,\n",
    "        margin=dict(l=3, r=2, b=0, t=100),\n",
    "        boxgroupgap=0.00,\n",
    "       \n",
    "        title_text=f'Demand flexibility analysis - Iterations: {n}',\n",
    "     )\n",
    "\n",
    "    # Add axis titles for each subplot\n",
    "    fig.update_xaxes(title_text=\"Time (hours)\", row=1, col=1)\n",
    "    fig.update_yaxes(title_text=\"Load (GW)\", row=1, col=1)\n",
    "    fig.update_xaxes(title_text=\"Time (hours)\", row=1, col=2)\n",
    "    fig.update_yaxes(title_text=\"Cost (INR/kWH)\", row=1, col=2)\n",
    "    fig.update_xaxes(title_text=\"Time (hours)\", row=2, col=1)\n",
    "    fig.update_yaxes(title_text=\"Flexibility (GW)\", row=2, col=1)\n",
    "    fig.update_xaxes(title_text=\"Time (hours)\", row=2, col=2)\n",
    "    fig.update_yaxes(title_text=\"Crore INR\", row=2, col=2)\n",
    "    fig.update_xaxes(title_text=\"Time (hours)\", row=3, col=2)\n",
    "    fig.update_yaxes(title_text=\"INR/kWh\", row=3, col=2)\n",
    "    fig.update_xaxes(title_text=\"Time (hours)\", row=3, col=1)\n",
    "    fig.update_yaxes(title_text=\"INR/kWh\", row=3, col=1)\n",
    "    \n",
    "    \n",
    "    fig.show()"
   ]
  },
  {
   "cell_type": "code",
   "execution_count": 24,
   "id": "81d76d19",
   "metadata": {},
   "outputs": [
    {
     "data": {
      "application/vnd.jupyter.widget-view+json": {
       "model_id": "dc0e5fd8599043fd80822ec81180e14f",
       "version_major": 2,
       "version_minor": 0
      },
      "text/plain": [
       "interactive(children=(Dropdown(description='Consumer category:', options=('pww', 'coldstorage', 'IT', 'office'…"
      ]
     },
     "metadata": {},
     "output_type": "display_data"
    }
   ],
   "source": [
    "## Load shift in different categories of load\n",
    "\n",
    "consumer_list = ['pww','coldstorage','IT','office','mall','hotel','hospital','residential']\n",
    "@interact(consumer_category=widgets.Dropdown(options=consumer_list, description='Consumer category:'))\n",
    "def update_plot1(consumer_category):\n",
    "    # Your existing code for generating the plot with the given value of n\n",
    "    fig = sp.make_subplots(rows=1, cols=1)\n",
    "    x_values = np.linspace(1, 24, 24)\n",
    "    x1 = x_values\n",
    "    if consumer_category=='residential':\n",
    "        fps = pricing_signal[nn]['residential']\n",
    "    else:\n",
    "        fps = pricing_signal[nn]['commercial']\n",
    "        \n",
    "        \n",
    "    load_cs = base_base[consumer_category]\n",
    "    optimal_load=optimal_load_curve1(fps,load_cs)\n",
    "    base_load =load_cs.iloc[:, 25]\n",
    "    \n",
    "    \n",
    "    # Plot the data\n",
    "    fig.add_trace(go.Scatter(x=x1, y=base_load, mode='lines', name=f'Base load'), row=1, col=1)\n",
    "    fig.add_trace(go.Scatter(x=x1, y=optimal_load, mode='lines', name=f'Optimal load - iteration: {0}'), row=1, col=1)\n",
    "   \n",
    "\n",
    "    fig.update_layout(\n",
    "        height=600,\n",
    "#         width=1100,\n",
    "        margin=dict(l=3, r=2, b=0, t=100),\n",
    "        boxgroupgap=0.00,\n",
    "       \n",
    "        title_text=f'Consumer load curves: {n}',\n",
    "     )\n",
    "\n",
    "    # Add axis titles for each subplot\n",
    "    fig.update_xaxes(title_text=\"Time (hours)\", row=1, col=1)\n",
    "    fig.update_yaxes(title_text=\"Load (kW)\", row=1, col=1)\n",
    "    \n",
    "\n",
    "    fig.show()"
   ]
  },
  {
   "cell_type": "code",
   "execution_count": null,
   "id": "de9698b9",
   "metadata": {},
   "outputs": [],
   "source": []
  }
 ],
 "metadata": {
  "kernelspec": {
   "display_name": "Python 3 (ipykernel)",
   "language": "python",
   "name": "python3"
  },
  "language_info": {
   "codemirror_mode": {
    "name": "ipython",
    "version": 3
   },
   "file_extension": ".py",
   "mimetype": "text/x-python",
   "name": "python",
   "nbconvert_exporter": "python",
   "pygments_lexer": "ipython3",
   "version": "3.10.2"
  }
 },
 "nbformat": 4,
 "nbformat_minor": 5
}
